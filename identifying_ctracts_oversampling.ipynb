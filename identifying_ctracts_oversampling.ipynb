{
 "cells": [
  {
   "cell_type": "markdown",
   "metadata": {},
   "source": [
    "# Identifying Vulnerable Census Tracts for Oversampling in Electrify CA Survey  \n",
    "\n",
    "Author: Sofia Ingersoll\n",
    "\n",
    "Date: 2024-06-28\n",
    "\n",
    "##### This analysis is looking at each of these spatial datasets and understanding how much overlap there is between them. We need to overlay the data sets and visualize (relative to the calEnviroScreen) where the data sets do not overlap. That will help us decide which census tracts or zip codes we need to include for oversampling.\n",
    "\n",
    "\n",
    "*Configuration Notes: \n",
    "eds-env is the environment I am using. Will provide full package breakdown once project is complete*\n"
   ]
  },
  {
   "cell_type": "markdown",
   "metadata": {},
   "source": [
    "### EJ datasets - our board recommended:\n",
    "- [SB535 Disadvantaged Communities](https://oehha.ca.gov/calenviroscreen/sb535)\n",
    "- [CalEnviroScreen](https://oehha.ca.gov/calenviroscreen/maps-data)\n",
    "- [San Diego Climate Equity Index](https://www.arcgis.com/home/item.html?id=859711eac76f47a7996b39a424c5c222)\n",
    "- [EJScreen Tool](https://www.epa.gov/ejscreen/download-ejscreen-data)\n",
    "- [White House Map](https://screeningtool.geoplatform.gov/en/downloads#3/33.47/-97.5)\n",
    "- [Climate & Health Vulnerability Indicators for CA (Climate Vulnerability Metric)](https://www.cdph.ca.gov/Programs/OHE/Pages/CC-Health-Vulnerability-Indicators.aspx#) \n",
    "- [DOE's Energy Justice Mapping Tool - Disadvantaged Communities Reporter (EJMT)](https://energyjustice.egs.anl.gov/)\n",
    "- [CDC's Environmental Justice Index (EJI)](https://www.atsdr.cdc.gov/placeandhealth/eji/index.html)\n",
    "- [CDC's Social Vulnerability Index (SVI)](https://www.atsdr.cdc.gov/placeandhealth/svi/index.html)\n",
    "- [US Climate Vulnerability Index: Overall Climate Vulnerability in The U.S.](https://map.climatevulnerabilityindex.org/map/cvi_overall/usa?mapBoundaries=Tract&mapFilter=0&reportBoundaries=Tract&geoContext=State)"
   ]
  },
  {
   "cell_type": "markdown",
   "metadata": {},
   "source": [
    "##### Data Notes\n",
    "\n",
    " The data provided by [Climate & Health Vulnerability Indicators for CA (Climate Vulnerability Metric)](https://www.cdph.ca.gov/Programs/OHE/Pages/CC-Health-Vulnerability-Indicators.aspx#) includes the `Environmental Exposures Domain`, the `Population Sensitivty Domain`, and the `Adaptive Capacity Domain`.\n"
   ]
  },
  {
   "cell_type": "code",
   "execution_count": 70,
   "metadata": {},
   "outputs": [],
   "source": [
    "# loading libraries\n",
    "import pandas as pd\n",
    "import geopandas as gpd \n",
    "import xarray as xr \n",
    "import rioxarray as rioxr\n",
    "import rasterio \n",
    "import matplotlib.pyplot as plt\n",
    "\n",
    "# Function to convert column names to snake_case\n",
    "def to_snake_case(df):\n",
    "    df.columns = df.columns.str.strip().str.replace(' ', '_').str.replace('\\n', '_').str.lower()\n",
    "    return df"
   ]
  },
  {
   "cell_type": "markdown",
   "metadata": {},
   "source": [
    "#### Rough Game Plan\n",
    "\n",
    "##### Quick Mapping\n",
    "- Read in the CA tract data\n",
    "- Convert everything into geospatial objects\n",
    "- Assess and identify components provided in each data set (Get familair with data)\n",
    "- Match CRS + resolution\n",
    "- Overlay maps to visualize areas without intersectionality \n",
    "\n",
    "##### Surveying Application of Results\n",
    "- Create a xlsx of the census tracts that have zero intersection\n",
    "- Create a xlsx of the census tracts with the most overlap\n",
    "\n",
    "##### Interpretting\n",
    "- What % of CA tracts are within the overlapping regions?\n",
    "- What is the approximate population within those regions?\n",
    "- Same questions for those regions **not** intersecting"
   ]
  },
  {
   "cell_type": "markdown",
   "metadata": {},
   "source": [
    "### Quick Mapping\n",
    "\n",
    "##### Reading & Wrangling Data"
   ]
  },
  {
   "cell_type": "markdown",
   "metadata": {},
   "source": [
    "##### SB535 Disadvantaged Communities Data"
   ]
  },
  {
   "cell_type": "code",
   "execution_count": 18,
   "metadata": {},
   "outputs": [
    {
     "data": {
      "text/plain": [
       "{'Data dictionary':           SB535 Disadvantaged Communities List (2022)  \\\n",
       " 0   The following tabs in this Excel file contain ...   \n",
       " 1   The second tab \"SB 535 tract list\" contains th...   \n",
       " 2   The third tab \"SB535 tribal area list\" contain...   \n",
       " 3   A Tribe may establish that a particular area o...   \n",
       " 4   CalEPA Deputy Secretary for Environmental Just...   \n",
       " ..                                                ...   \n",
       " 81                                               Name   \n",
       " 82                                         Component    \n",
       " 83                                                NaN   \n",
       " 84                                                NaN   \n",
       " 85                                                NaN   \n",
       " \n",
       "                                            Unnamed: 1  \n",
       " 0                                                 NaN  \n",
       " 1                                                 NaN  \n",
       " 2                                                 NaN  \n",
       " 3                                                 NaN  \n",
       " 4                                                 NaN  \n",
       " ..                                                ...  \n",
       " 81                  Current American Indian area name  \n",
       " 82  Component type. \"R\" is Federally recognized Am...  \n",
       " 83                                                NaN  \n",
       " 84                                                NaN  \n",
       " 85                                                     \n",
       " \n",
       " [86 rows x 2 columns],\n",
       " 'SB535 tract list (2022)':       Census Tract  CalEnviroScreen\\n4.0 Score  \\\n",
       " 0       6001400900                   40.706036   \n",
       " 1       6001401000                   43.736745   \n",
       " 2       6001401300                   43.677589   \n",
       " 3       6001401400                   45.084138   \n",
       " 4       6001401500                   44.528208   \n",
       " ...            ...                         ...   \n",
       " 2305    6113010203                   59.833979   \n",
       " 2306    6113010204                   45.326498   \n",
       " 2307    6115040100                   51.760832   \n",
       " 2308    6115040302                   39.382454   \n",
       " 2309    6115040400                   49.196056   \n",
       " \n",
       "       CalEnviroScreen\\n4.0 Percentile CalEnviroScreen 4.0 \\nPercentile Range  \\\n",
       " 0                           76.147252                                 75-80%   \n",
       " 1                           80.408472                                 80-85%   \n",
       " 2                           80.345436                                 80-85%   \n",
       " 3                           82.123046                                 80-85%   \n",
       " 4                           81.429652                                 80-85%   \n",
       " ...                               ...                                    ...   \n",
       " 2305                        95.600101               95-100% (highest scores)   \n",
       " 2306                        82.312153                                 80-85%   \n",
       " 2307                        89.750378                                 85-90%   \n",
       " 2308                        73.903177                                 70-75%   \n",
       " 2309                        87.014624                                 85-90%   \n",
       " \n",
       "       Pollution Burden\\nPercentile  Population Characteristics\\nPercentile  \\\n",
       " 0                        66.409459                               74.848714   \n",
       " 1                        81.829496                               70.272315   \n",
       " 2                        73.976353                               76.059002   \n",
       " 3                        83.385190                               71.583459   \n",
       " 4                        78.780336                               74.394856   \n",
       " ...                            ...                                     ...   \n",
       " 2305                     97.473553                               79.538578   \n",
       " 2306                     76.353454                               77.975290   \n",
       " 2307                     95.096453                               71.293495   \n",
       " 2308                     57.722464                               78.088754   \n",
       " 2309                     67.691350                               91.868381   \n",
       " \n",
       "       Total Population California County  Approximate Zip Code  \\\n",
       " 0                 2471          Alameda                  94608   \n",
       " 1                 6133          Alameda                  94608   \n",
       " 2                 3921          Alameda                  94609   \n",
       " 3                 4732          Alameda                  94608   \n",
       " 4                 2839          Alameda                  94608   \n",
       " ...                ...               ...                   ...   \n",
       " 2305              5355             Yolo                  95691   \n",
       " 2306              5189             Yolo                  95691   \n",
       " 2307              4770             Yuba                  95901   \n",
       " 2308              2396             Yuba                  95901   \n",
       " 2309              5434             Yuba                  95961   \n",
       " \n",
       "      Approximate Location                                       DAC category  \n",
       " 0                 Oakland                        CalEnviroScreen 4.0 Top 25%  \n",
       " 1                 Oakland                        CalEnviroScreen 4.0 Top 25%  \n",
       " 2                 Oakland                        CalEnviroScreen 4.0 Top 25%  \n",
       " 3                 Oakland                        CalEnviroScreen 4.0 Top 25%  \n",
       " 4                 Oakland                        CalEnviroScreen 4.0 Top 25%  \n",
       " ...                   ...                                                ...  \n",
       " 2305      West Sacramento                        CalEnviroScreen 4.0 Top 25%  \n",
       " 2306      West Sacramento                        CalEnviroScreen 4.0 Top 25%  \n",
       " 2307           Marysville                        CalEnviroScreen 4.0 Top 25%  \n",
       " 2308                Linda  2017 Disadvantaged Community (CalEnviroScreen ...  \n",
       " 2309           Olivehurst                        CalEnviroScreen 4.0 Top 25%  \n",
       " \n",
       " [2310 rows x 11 columns],\n",
       " 'SB535 tribal area list (2022)':      GeoID                              Name Component\n",
       " 0    0020R  Agua Caliente Indian Reservation         R\n",
       " 1    0020T  Agua Caliente Indian Reservation         T\n",
       " 2    0095R          Alturas Indian Rancheria         R\n",
       " 3    0120R                  Auburn Rancheria         R\n",
       " 4    0120T                  Auburn Rancheria         T\n",
       " ..     ...                               ...       ...\n",
       " 143  4500T                Viejas Reservation         T\n",
       " 144  4560T         Washoe Ranches Trust Land         T\n",
       " 145  4665R               Woodfords Community         R\n",
       " 146  4680R                XL Ranch Rancheria         R\n",
       " 147  4760R                 Yurok Reservation         R\n",
       " \n",
       " [148 rows x 3 columns],\n",
       " 'SB535 tract all data (2022)':       Census Tract  Total Population California County    ZIP  \\\n",
       " 0       6001400900              2471          Alameda   94608   \n",
       " 1       6001401000              6133          Alameda   94608   \n",
       " 2       6001401300              3921          Alameda   94609   \n",
       " 3       6001401400              4732          Alameda   94608   \n",
       " 4       6001401500              2839          Alameda   94608   \n",
       " ...            ...               ...               ...    ...   \n",
       " 2305    6113010203              5355             Yolo   95691   \n",
       " 2306    6113010204              5189             Yolo   95691   \n",
       " 2307    6115040100              4770             Yuba   95901   \n",
       " 2308    6115040302              2396             Yuba   95901   \n",
       " 2309    6115040400              5434             Yuba   95961   \n",
       " \n",
       "      Approximate Location   Longitude   Latitude  CES 4.0 Score  \\\n",
       " 0                 Oakland -122.280244  37.839467      40.706036   \n",
       " 1                 Oakland -122.271963  37.831217      43.736745   \n",
       " 2                 Oakland -122.266713  37.818100      43.677589   \n",
       " 3                 Oakland -122.273376  37.820739      45.084138   \n",
       " 4                 Oakland -122.280636  37.822923      44.528208   \n",
       " ...                   ...         ...        ...            ...   \n",
       " 2305      West Sacramento -121.563721  38.563765      59.833979   \n",
       " 2306      West Sacramento -121.532462  38.577783      45.326498   \n",
       " 2307           Marysville -121.594246  39.151526      51.760832   \n",
       " 2308                Linda -121.570911  39.127708      39.382454   \n",
       " 2309           Olivehurst -121.582617  39.099915      49.196056   \n",
       " \n",
       "        CES 4.0 Percentile  CES 4.0 Percentile Range  ...  \\\n",
       " 0               76.147252                    75-80%  ...   \n",
       " 1               80.408472                    80-85%  ...   \n",
       " 2               80.345436                    80-85%  ...   \n",
       " 3               82.123046                    80-85%  ...   \n",
       " 4               81.429652                    80-85%  ...   \n",
       " ...                   ...                       ...  ...   \n",
       " 2305            95.600101  95-100% (highest scores)  ...   \n",
       " 2306            82.312153                    80-85%  ...   \n",
       " 2307            89.750378                    85-90%  ...   \n",
       " 2308            73.903177                    70-75%  ...   \n",
       " 2309            87.014624                    85-90%  ...   \n",
       " \n",
       "      Linguistic Isolation Pctl  Poverty  Poverty Pctl  Unemployment  \\\n",
       " 0                    63.039654     28.2     50.854271           5.5   \n",
       " 1                    53.863852     27.0     48.580402           5.0   \n",
       " 2                    62.241169     42.9     73.316583           5.8   \n",
       " 3                    38.137772     54.2     86.218593           6.5   \n",
       " 4                    43.294086     35.6     62.587940           6.8   \n",
       " ...                        ...      ...           ...           ...   \n",
       " 2305                 64.406550     65.9     95.502513          13.3   \n",
       " 2306                 72.513195     51.2     83.241206          11.1   \n",
       " 2307                 11.273515     52.0     84.208543           7.3   \n",
       " 2308                 53.863852     77.5     99.095477          12.7   \n",
       " 2309                 71.159832     67.4     96.231156          10.9   \n",
       " \n",
       "       Unemployment Pctl  Housing Burden  Housing Burden Pctl  Pop. Char.   \\\n",
       " 0             51.262363            23.3            75.107731    66.317052   \n",
       " 1             44.351900            28.5            87.883397    63.098899   \n",
       " 2             55.023425            18.6            56.856781    67.060721   \n",
       " 3             62.402395            34.9            96.032953    64.096005   \n",
       " 4             65.629880            25.9            82.408112    65.991538   \n",
       " ...                 ...             ...                  ...          ...   \n",
       " 2305          94.833420            23.7            76.349810    69.562620   \n",
       " 2306          89.927121            24.2            77.820025    68.420473   \n",
       " 2307          69.976575            21.6            69.150824    63.864399   \n",
       " 2308          93.714211            16.7            47.617237    68.496114   \n",
       " 2309          89.458615            20.9            66.514575    79.312196   \n",
       " \n",
       "       Pop. Char. Score  Pop. Char. Pctl  \n",
       " 0             6.879234        74.848714  \n",
       " 1             6.545407        70.272315  \n",
       " 2             6.956376        76.059002  \n",
       " 3             6.648839        71.583459  \n",
       " 4             6.845467        74.394856  \n",
       " ...                ...              ...  \n",
       " 2305          7.215905        79.538578  \n",
       " 2306          7.097427        77.975290  \n",
       " 2307          6.624814        71.293495  \n",
       " 2308          7.105273        78.088754  \n",
       " 2309          8.227253        91.868381  \n",
       " \n",
       " [2310 rows x 59 columns]}"
      ]
     },
     "execution_count": 18,
     "metadata": {},
     "output_type": "execute_result"
    }
   ],
   "source": [
    "# import SB535 Disadvantaged Communities data\n",
    "sb535_filename = 'data/SB535_disadv_communities/SB535DACresultsdatadictionary_F_2022.xlsx'\n",
    "#sb535 =  pd.ExcelFile(sb535_filename)\n",
    "\n",
    "sb535 = pd.read_excel(sb535_filename, sheet_name=None)\n",
    "\n",
    "sb535"
   ]
  },
  {
   "cell_type": "code",
   "execution_count": 49,
   "metadata": {},
   "outputs": [
    {
     "name": "stdout",
     "output_type": "stream",
     "text": [
      "0                                                   The following tabs in this Excel file contain the list of disadvantaged communities (DACs) designated by CalEPA. \n",
      "1                 The second tab \"SB 535 tract list\" contains the list of census tracts identified as DACs by use of the CalEnivroScreen tool. (Data dictonary below)\n",
      "2    The third tab \"SB535 tribal area list\" contains the list of tribal areas in California that are identified as DACs. (Data dictionary at the bottom of this page)\n",
      "3                 A Tribe may establish that a particular area of land is under its control, for purposes of this designation, by requesting a consultation with the \n",
      "4                                               CalEPA Deputy Secretary for Environmental Justice, Tribal Affairs and Border Relations at TribalAffairs@calepa.ca.gov\n",
      "Name: SB535 Disadvantaged Communities List (2022), dtype: object\n"
     ]
    }
   ],
   "source": [
    "# set display options to see the full content\n",
    "pd.set_option('display.max_colwidth', None)\n",
    "\n",
    "# let's see what our metadata is telling us\n",
    "print(sb535_0.iloc[:5, 0])"
   ]
  },
  {
   "cell_type": "code",
   "execution_count": 74,
   "metadata": {},
   "outputs": [
    {
     "data": {
      "text/html": [
       "<div>\n",
       "<style scoped>\n",
       "    .dataframe tbody tr th:only-of-type {\n",
       "        vertical-align: middle;\n",
       "    }\n",
       "\n",
       "    .dataframe tbody tr th {\n",
       "        vertical-align: top;\n",
       "    }\n",
       "\n",
       "    .dataframe thead th {\n",
       "        text-align: right;\n",
       "    }\n",
       "</style>\n",
       "<table border=\"1\" class=\"dataframe\">\n",
       "  <thead>\n",
       "    <tr style=\"text-align: right;\">\n",
       "      <th></th>\n",
       "      <th>census_tract</th>\n",
       "      <th>calenviroscreen_4.0_score</th>\n",
       "      <th>calenviroscreen_4.0_percentile</th>\n",
       "      <th>calenviroscreen_4.0__percentile_range</th>\n",
       "      <th>pollution_burden_percentile</th>\n",
       "      <th>population_characteristics_percentile</th>\n",
       "      <th>total_population</th>\n",
       "      <th>california_county</th>\n",
       "      <th>approximate_zip_code</th>\n",
       "      <th>approximate_location</th>\n",
       "      <th>...</th>\n",
       "      <th>linguistic_isolation_pctl</th>\n",
       "      <th>poverty</th>\n",
       "      <th>poverty_pctl</th>\n",
       "      <th>unemployment</th>\n",
       "      <th>unemployment_pctl</th>\n",
       "      <th>housing_burden</th>\n",
       "      <th>housing_burden_pctl</th>\n",
       "      <th>pop._char.</th>\n",
       "      <th>pop._char._score</th>\n",
       "      <th>pop._char._pctl</th>\n",
       "    </tr>\n",
       "  </thead>\n",
       "  <tbody>\n",
       "    <tr>\n",
       "      <th>0</th>\n",
       "      <td>6.001401e+09</td>\n",
       "      <td>40.706036</td>\n",
       "      <td>76.147252</td>\n",
       "      <td>75-80%</td>\n",
       "      <td>66.409459</td>\n",
       "      <td>74.848714</td>\n",
       "      <td>2471.0</td>\n",
       "      <td>Alameda</td>\n",
       "      <td>94608.0</td>\n",
       "      <td>Oakland</td>\n",
       "      <td>...</td>\n",
       "      <td>NaN</td>\n",
       "      <td>NaN</td>\n",
       "      <td>NaN</td>\n",
       "      <td>NaN</td>\n",
       "      <td>NaN</td>\n",
       "      <td>NaN</td>\n",
       "      <td>NaN</td>\n",
       "      <td>NaN</td>\n",
       "      <td>NaN</td>\n",
       "      <td>NaN</td>\n",
       "    </tr>\n",
       "    <tr>\n",
       "      <th>1</th>\n",
       "      <td>6.001401e+09</td>\n",
       "      <td>43.736745</td>\n",
       "      <td>80.408472</td>\n",
       "      <td>80-85%</td>\n",
       "      <td>81.829496</td>\n",
       "      <td>70.272315</td>\n",
       "      <td>6133.0</td>\n",
       "      <td>Alameda</td>\n",
       "      <td>94608.0</td>\n",
       "      <td>Oakland</td>\n",
       "      <td>...</td>\n",
       "      <td>NaN</td>\n",
       "      <td>NaN</td>\n",
       "      <td>NaN</td>\n",
       "      <td>NaN</td>\n",
       "      <td>NaN</td>\n",
       "      <td>NaN</td>\n",
       "      <td>NaN</td>\n",
       "      <td>NaN</td>\n",
       "      <td>NaN</td>\n",
       "      <td>NaN</td>\n",
       "    </tr>\n",
       "    <tr>\n",
       "      <th>2</th>\n",
       "      <td>6.001401e+09</td>\n",
       "      <td>43.677589</td>\n",
       "      <td>80.345436</td>\n",
       "      <td>80-85%</td>\n",
       "      <td>73.976353</td>\n",
       "      <td>76.059002</td>\n",
       "      <td>3921.0</td>\n",
       "      <td>Alameda</td>\n",
       "      <td>94609.0</td>\n",
       "      <td>Oakland</td>\n",
       "      <td>...</td>\n",
       "      <td>NaN</td>\n",
       "      <td>NaN</td>\n",
       "      <td>NaN</td>\n",
       "      <td>NaN</td>\n",
       "      <td>NaN</td>\n",
       "      <td>NaN</td>\n",
       "      <td>NaN</td>\n",
       "      <td>NaN</td>\n",
       "      <td>NaN</td>\n",
       "      <td>NaN</td>\n",
       "    </tr>\n",
       "    <tr>\n",
       "      <th>3</th>\n",
       "      <td>6.001401e+09</td>\n",
       "      <td>45.084138</td>\n",
       "      <td>82.123046</td>\n",
       "      <td>80-85%</td>\n",
       "      <td>83.385190</td>\n",
       "      <td>71.583459</td>\n",
       "      <td>4732.0</td>\n",
       "      <td>Alameda</td>\n",
       "      <td>94608.0</td>\n",
       "      <td>Oakland</td>\n",
       "      <td>...</td>\n",
       "      <td>NaN</td>\n",
       "      <td>NaN</td>\n",
       "      <td>NaN</td>\n",
       "      <td>NaN</td>\n",
       "      <td>NaN</td>\n",
       "      <td>NaN</td>\n",
       "      <td>NaN</td>\n",
       "      <td>NaN</td>\n",
       "      <td>NaN</td>\n",
       "      <td>NaN</td>\n",
       "    </tr>\n",
       "    <tr>\n",
       "      <th>4</th>\n",
       "      <td>6.001402e+09</td>\n",
       "      <td>44.528208</td>\n",
       "      <td>81.429652</td>\n",
       "      <td>80-85%</td>\n",
       "      <td>78.780336</td>\n",
       "      <td>74.394856</td>\n",
       "      <td>2839.0</td>\n",
       "      <td>Alameda</td>\n",
       "      <td>94608.0</td>\n",
       "      <td>Oakland</td>\n",
       "      <td>...</td>\n",
       "      <td>NaN</td>\n",
       "      <td>NaN</td>\n",
       "      <td>NaN</td>\n",
       "      <td>NaN</td>\n",
       "      <td>NaN</td>\n",
       "      <td>NaN</td>\n",
       "      <td>NaN</td>\n",
       "      <td>NaN</td>\n",
       "      <td>NaN</td>\n",
       "      <td>NaN</td>\n",
       "    </tr>\n",
       "  </tbody>\n",
       "</table>\n",
       "<p>5 rows × 68 columns</p>\n",
       "</div>"
      ],
      "text/plain": [
       "   census_tract  calenviroscreen_4.0_score  calenviroscreen_4.0_percentile  \\\n",
       "0  6.001401e+09                  40.706036                       76.147252   \n",
       "1  6.001401e+09                  43.736745                       80.408472   \n",
       "2  6.001401e+09                  43.677589                       80.345436   \n",
       "3  6.001401e+09                  45.084138                       82.123046   \n",
       "4  6.001402e+09                  44.528208                       81.429652   \n",
       "\n",
       "  calenviroscreen_4.0__percentile_range  pollution_burden_percentile  \\\n",
       "0                                75-80%                    66.409459   \n",
       "1                                80-85%                    81.829496   \n",
       "2                                80-85%                    73.976353   \n",
       "3                                80-85%                    83.385190   \n",
       "4                                80-85%                    78.780336   \n",
       "\n",
       "   population_characteristics_percentile  total_population california_county  \\\n",
       "0                              74.848714            2471.0          Alameda    \n",
       "1                              70.272315            6133.0          Alameda    \n",
       "2                              76.059002            3921.0          Alameda    \n",
       "3                              71.583459            4732.0          Alameda    \n",
       "4                              74.394856            2839.0          Alameda    \n",
       "\n",
       "   approximate_zip_code approximate_location  ... linguistic_isolation_pctl  \\\n",
       "0               94608.0              Oakland  ...                       NaN   \n",
       "1               94608.0              Oakland  ...                       NaN   \n",
       "2               94609.0              Oakland  ...                       NaN   \n",
       "3               94608.0              Oakland  ...                       NaN   \n",
       "4               94608.0              Oakland  ...                       NaN   \n",
       "\n",
       "  poverty poverty_pctl unemployment  unemployment_pctl  housing_burden  \\\n",
       "0     NaN          NaN          NaN                NaN             NaN   \n",
       "1     NaN          NaN          NaN                NaN             NaN   \n",
       "2     NaN          NaN          NaN                NaN             NaN   \n",
       "3     NaN          NaN          NaN                NaN             NaN   \n",
       "4     NaN          NaN          NaN                NaN             NaN   \n",
       "\n",
       "   housing_burden_pctl  pop._char.  pop._char._score pop._char._pctl  \n",
       "0                  NaN         NaN               NaN             NaN  \n",
       "1                  NaN         NaN               NaN             NaN  \n",
       "2                  NaN         NaN               NaN             NaN  \n",
       "3                  NaN         NaN               NaN             NaN  \n",
       "4                  NaN         NaN               NaN             NaN  \n",
       "\n",
       "[5 rows x 68 columns]"
      ]
     },
     "execution_count": 74,
     "metadata": {},
     "output_type": "execute_result"
    }
   ],
   "source": [
    "# collect sb535 sheet names\n",
    "sb535_sheetnames = list(sb535.keys())\n",
    "\n",
    "# read in sheets as df\n",
    "sb535_0 = sb535[sb535_sheetnames[0]]\n",
    "\n",
    "sb535_1 = sb535[sb535_sheetnames[1]]\n",
    "\n",
    "sb535_2 = sb535[sb535_sheetnames[2]]\n",
    "\n",
    "sb535_3 = sb535[sb535_sheetnames[3]]\n",
    "\n",
    "# combine into df\n",
    "sb535_df = to_snake_case(pd.concat([sb535_1, sb535_2, sb535_3], ignore_index=True))\n",
    "\n",
    "\n",
    "# check df\n",
    "sb535_df.head()"
   ]
  },
  {
   "cell_type": "code",
   "execution_count": 75,
   "metadata": {},
   "outputs": [
    {
     "data": {
      "text/plain": [
       "Index(['Census Tract', 'CalEnviroScreen\\n4.0 Score',\n",
       "       'CalEnviroScreen\\n4.0 Percentile',\n",
       "       'CalEnviroScreen 4.0 \\nPercentile Range',\n",
       "       'Pollution Burden\\nPercentile',\n",
       "       'Population Characteristics\\nPercentile', 'Total Population',\n",
       "       'California County', 'Approximate Zip Code', 'Approximate Location',\n",
       "       'DAC category'],\n",
       "      dtype='object')"
      ]
     },
     "execution_count": 75,
     "metadata": {},
     "output_type": "execute_result"
    }
   ],
   "source": [
    "sb535_1.columns"
   ]
  },
  {
   "cell_type": "code",
   "execution_count": 57,
   "metadata": {},
   "outputs": [
    {
     "data": {
      "text/plain": [
       "Index(['GeoID', 'Name', 'Component'], dtype='object')"
      ]
     },
     "execution_count": 57,
     "metadata": {},
     "output_type": "execute_result"
    }
   ],
   "source": [
    "sb535_2.columns"
   ]
  },
  {
   "cell_type": "code",
   "execution_count": 55,
   "metadata": {},
   "outputs": [
    {
     "data": {
      "text/plain": [
       "Index(['Census Tract', 'Total Population', 'California County', 'ZIP',\n",
       "       'Approximate Location', 'Longitude', 'Latitude', 'CES 4.0 Score',\n",
       "       ' CES 4.0 Percentile', 'CES 4.0 Percentile Range', 'DAC category',\n",
       "       'Ozone', 'Ozone Pctl', 'PM2.5', 'PM2.5 Pctl', 'Diesel PM',\n",
       "       'Diesel PM Pctl', 'Drinking Water', 'Drinking Water Pctl', 'Lead',\n",
       "       'Lead Pctl', 'Pesticides', 'Pesticides Pctl', 'Tox. Release',\n",
       "       'Tox. Release Pctl', 'Traffic', 'Traffic Pctl', 'Cleanup Sites',\n",
       "       'Cleanup Sites Pctl', 'Groundwater Threats', 'Groundwater Threats Pctl',\n",
       "       'Haz. Waste', 'Haz. Waste Pctl', 'Imp. Water Bodies',\n",
       "       'Imp. Water Bodies Pctl', 'Solid Waste', 'Solid Waste Pctl',\n",
       "       'Pollution Burden', 'Pollution Burden Score', 'Pollution Burden Pctl',\n",
       "       'Asthma', 'Asthma Pctl', 'Low Birth Weight', 'Low Birth Weight Pctl',\n",
       "       'Cardiovascular Disease', 'Cardiovascular Disease Pctl', 'Education',\n",
       "       'Education Pctl', 'Linguistic Isolation', 'Linguistic Isolation Pctl',\n",
       "       'Poverty', 'Poverty Pctl', 'Unemployment', 'Unemployment Pctl',\n",
       "       'Housing Burden', 'Housing Burden Pctl', 'Pop. Char. ',\n",
       "       'Pop. Char. Score', 'Pop. Char. Pctl'],\n",
       "      dtype='object')"
      ]
     },
     "execution_count": 55,
     "metadata": {},
     "output_type": "execute_result"
    }
   ],
   "source": [
    "sb535_3.columns"
   ]
  },
  {
   "cell_type": "code",
   "execution_count": 76,
   "metadata": {},
   "outputs": [
    {
     "data": {
      "text/plain": [
       "Index(['census_tract', 'calenviroscreen_4.0_score',\n",
       "       'calenviroscreen_4.0_percentile',\n",
       "       'calenviroscreen_4.0__percentile_range', 'pollution_burden_percentile',\n",
       "       'population_characteristics_percentile', 'total_population',\n",
       "       'california_county', 'approximate_zip_code', 'approximate_location',\n",
       "       'dac_category', 'geoid', 'name', 'component', 'zip', 'longitude',\n",
       "       'latitude', 'ces_4.0_score', 'ces_4.0_percentile',\n",
       "       'ces_4.0_percentile_range', 'ozone', 'ozone_pctl', 'pm2.5',\n",
       "       'pm2.5_pctl', 'diesel_pm', 'diesel_pm_pctl', 'drinking_water',\n",
       "       'drinking_water_pctl', 'lead', 'lead_pctl', 'pesticides',\n",
       "       'pesticides_pctl', 'tox._release', 'tox._release_pctl', 'traffic',\n",
       "       'traffic_pctl', 'cleanup_sites', 'cleanup_sites_pctl',\n",
       "       'groundwater_threats', 'groundwater_threats_pctl', 'haz._waste',\n",
       "       'haz._waste_pctl', 'imp._water_bodies', 'imp._water_bodies_pctl',\n",
       "       'solid_waste', 'solid_waste_pctl', 'pollution_burden',\n",
       "       'pollution_burden_score', 'pollution_burden_pctl', 'asthma',\n",
       "       'asthma_pctl', 'low_birth_weight', 'low_birth_weight_pctl',\n",
       "       'cardiovascular_disease', 'cardiovascular_disease_pctl', 'education',\n",
       "       'education_pctl', 'linguistic_isolation', 'linguistic_isolation_pctl',\n",
       "       'poverty', 'poverty_pctl', 'unemployment', 'unemployment_pctl',\n",
       "       'housing_burden', 'housing_burden_pctl', 'pop._char.',\n",
       "       'pop._char._score', 'pop._char._pctl'],\n",
       "      dtype='object')"
      ]
     },
     "execution_count": 76,
     "metadata": {},
     "output_type": "execute_result"
    }
   ],
   "source": [
    "sb535_df.columns"
   ]
  },
  {
   "cell_type": "code",
   "execution_count": 79,
   "metadata": {},
   "outputs": [
    {
     "name": "stdout",
     "output_type": "stream",
     "text": [
      "is geographic?:  True\n",
      "is projected?:  False\n",
      "datum:  North American Datum 1983\n",
      "ellipsoid:  GRS 1980\n"
     ]
    },
    {
     "data": {
      "text/plain": [
       "<Geographic 2D CRS: EPSG:4269>\n",
       "Name: NAD83\n",
       "Axis Info [ellipsoidal]:\n",
       "- Lat[north]: Geodetic latitude (degree)\n",
       "- Lon[east]: Geodetic longitude (degree)\n",
       "Area of Use:\n",
       "- name: North America - onshore and offshore: Canada - Alberta; British Columbia; Manitoba; New Brunswick; Newfoundland and Labrador; Northwest Territories; Nova Scotia; Nunavut; Ontario; Prince Edward Island; Quebec; Saskatchewan; Yukon. Puerto Rico. United States (USA) - Alabama; Alaska; Arizona; Arkansas; California; Colorado; Connecticut; Delaware; Florida; Georgia; Hawaii; Idaho; Illinois; Indiana; Iowa; Kansas; Kentucky; Louisiana; Maine; Maryland; Massachusetts; Michigan; Minnesota; Mississippi; Missouri; Montana; Nebraska; Nevada; New Hampshire; New Jersey; New Mexico; New York; North Carolina; North Dakota; Ohio; Oklahoma; Oregon; Pennsylvania; Rhode Island; South Carolina; South Dakota; Tennessee; Texas; Utah; Vermont; Virginia; Washington; West Virginia; Wisconsin; Wyoming. US Virgin Islands. British Virgin Islands.\n",
       "- bounds: (167.65, 14.92, -40.73, 86.45)\n",
       "Datum: North American Datum 1983\n",
       "- Ellipsoid: GRS 1980\n",
       "- Prime Meridian: Greenwich"
      ]
     },
     "execution_count": 79,
     "metadata": {},
     "output_type": "execute_result"
    }
   ],
   "source": [
    "sb535_geo = gpd.GeoDataFrame(sb535_df,\n",
    "                             geometry = gpd.points_from_xy(sb535_df.longitude, sb535_df.latitude),\n",
    "                             crs = 'EPSG:4269')\n",
    "\n",
    "sb535_geo.head(3)\n",
    "\n",
    "# print information about the \n",
    "print('is geographic?: ', sb535_geo.crs.is_geographic)\n",
    "print('is projected?: ', sb535_geo.crs.is_projected)\n",
    "print('datum: ', sb535_geo.crs.datum)\n",
    "print('ellipsoid: ', sb535_geo.crs.ellipsoid)\n",
    "\n",
    "sb535_geo.crs\n"
   ]
  },
  {
   "cell_type": "code",
   "execution_count": 80,
   "metadata": {},
   "outputs": [
    {
     "data": {
      "text/plain": [
       "<Axes: >"
      ]
     },
     "execution_count": 80,
     "metadata": {},
     "output_type": "execute_result"
    },
    {
     "data": {
      "image/png": "[encoded data removed]",
      "text/plain": [
       "<Figure size 640x480 with 1 Axes>"
      ]
     },
     "metadata": {},
     "output_type": "display_data"
    }
   ],
   "source": [
    "# confirm we have the right info (aka CA)\n",
    "sb535_geo.plot()"
   ]
  },
  {
   "cell_type": "markdown",
   "metadata": {},
   "source": [
    "#####  CalEnviroScreen Data\n",
    "`ciscore` is the CalEnviroScore I believe, need to check meta"
   ]
  },
  {
   "cell_type": "code",
   "execution_count": 86,
   "metadata": {},
   "outputs": [
    {
     "data": {
      "text/html": [
       "<div>\n",
       "<style scoped>\n",
       "    .dataframe tbody tr th:only-of-type {\n",
       "        vertical-align: middle;\n",
       "    }\n",
       "\n",
       "    .dataframe tbody tr th {\n",
       "        vertical-align: top;\n",
       "    }\n",
       "\n",
       "    .dataframe thead th {\n",
       "        text-align: right;\n",
       "    }\n",
       "</style>\n",
       "<table border=\"1\" class=\"dataframe\">\n",
       "  <thead>\n",
       "    <tr style=\"text-align: right;\">\n",
       "      <th></th>\n",
       "      <th>tract</th>\n",
       "      <th>zip</th>\n",
       "      <th>county</th>\n",
       "      <th>approxloc</th>\n",
       "      <th>totpop19</th>\n",
       "      <th>ciscore</th>\n",
       "      <th>ciscorep</th>\n",
       "      <th>ozone</th>\n",
       "      <th>ozonep</th>\n",
       "      <th>pm2_5</th>\n",
       "      <th>...</th>\n",
       "      <th>elderly65</th>\n",
       "      <th>hispanic</th>\n",
       "      <th>white</th>\n",
       "      <th>africanam</th>\n",
       "      <th>nativeam</th>\n",
       "      <th>othermult</th>\n",
       "      <th>shape_leng</th>\n",
       "      <th>shape_area</th>\n",
       "      <th>aapi</th>\n",
       "      <th>geometry</th>\n",
       "    </tr>\n",
       "  </thead>\n",
       "  <tbody>\n",
       "    <tr>\n",
       "      <th>0</th>\n",
       "      <td>6.083002e+09</td>\n",
       "      <td>93454</td>\n",
       "      <td>Santa Barbara</td>\n",
       "      <td>Santa Maria</td>\n",
       "      <td>4495</td>\n",
       "      <td>36.019653</td>\n",
       "      <td>69.162885</td>\n",
       "      <td>0.03419</td>\n",
       "      <td>10.566273</td>\n",
       "      <td>7.567724</td>\n",
       "      <td>...</td>\n",
       "      <td>12.5028</td>\n",
       "      <td>68.921</td>\n",
       "      <td>20.8899</td>\n",
       "      <td>0.4004</td>\n",
       "      <td>0.267</td>\n",
       "      <td>1.3126</td>\n",
       "      <td>6999.357689</td>\n",
       "      <td>2.847611e+06</td>\n",
       "      <td>8.2091</td>\n",
       "      <td>POLYGON ((-39795.070 -341919.191, -38126.384 -341949.463, -38140.258 -343585.801, -38973.138 -343565.215, -39101.124 -343580.515, -39297.113 -343651.682, -39656.690 -343854.660, -39803.632 -343880.520, -39795.070 -341919.191))</td>\n",
       "    </tr>\n",
       "  </tbody>\n",
       "</table>\n",
       "<p>1 rows × 67 columns</p>\n",
       "</div>"
      ],
      "text/plain": [
       "          tract    zip         county    approxloc  totpop19    ciscore  \\\n",
       "0  6.083002e+09  93454  Santa Barbara  Santa Maria      4495  36.019653   \n",
       "\n",
       "    ciscorep    ozone     ozonep     pm2_5  ...  elderly65  hispanic    white  \\\n",
       "0  69.162885  0.03419  10.566273  7.567724  ...    12.5028    68.921  20.8899   \n",
       "\n",
       "   africanam  nativeam  othermult   shape_leng    shape_area    aapi  \\\n",
       "0     0.4004     0.267     1.3126  6999.357689  2.847611e+06  8.2091   \n",
       "\n",
       "                                                                                                                                                                                                                             geometry  \n",
       "0  POLYGON ((-39795.070 -341919.191, -38126.384 -341949.463, -38140.258 -343585.801, -38973.138 -343565.215, -39101.124 -343580.515, -39297.113 -343651.682, -39656.690 -343854.660, -39803.632 -343880.520, -39795.070 -341919.191))  \n",
       "\n",
       "[1 rows x 67 columns]"
      ]
     },
     "execution_count": 86,
     "metadata": {},
     "output_type": "execute_result"
    }
   ],
   "source": [
    "calenviro = gpd.read_file('data/CalEnviroScreen/CES4 Final Shapefile.shp')\n",
    "\n",
    "calenviro = to_snake_case(calenviro)\n",
    "\n",
    "calenviro.head(1)"
   ]
  },
  {
   "cell_type": "code",
   "execution_count": 101,
   "metadata": {},
   "outputs": [
    {
     "data": {
      "text/plain": [
       "tract          float64\n",
       "zip              int64\n",
       "county          object\n",
       "approxloc       object\n",
       "totpop19         int64\n",
       "                ...   \n",
       "othermult      float64\n",
       "shape_leng     float64\n",
       "shape_area     float64\n",
       "aapi           float64\n",
       "geometry      geometry\n",
       "Length: 67, dtype: object"
      ]
     },
     "execution_count": 101,
     "metadata": {},
     "output_type": "execute_result"
    }
   ],
   "source": [
    "# crs config\n",
    "calenviro = calenviro.to_crs(sb535_geo.crs)\n",
    "\n",
    "# dtypes\n",
    "calenviro.dtypes"
   ]
  },
  {
   "cell_type": "code",
   "execution_count": 84,
   "metadata": {},
   "outputs": [
    {
     "data": {
      "text/plain": [
       "<Axes: >"
      ]
     },
     "execution_count": 84,
     "metadata": {},
     "output_type": "execute_result"
    },
    {
     "data": {
      "image/png": "[encoded data removed]",
      "text/plain": [
       "<Figure size 640x480 with 1 Axes>"
      ]
     },
     "metadata": {},
     "output_type": "display_data"
    }
   ],
   "source": [
    "calenviro.plot()"
   ]
  },
  {
   "cell_type": "markdown",
   "metadata": {},
   "source": [
    "### SD Climate Equity Index (SD_CEI)"
   ]
  },
  {
   "cell_type": "code",
   "execution_count": 92,
   "metadata": {},
   "outputs": [],
   "source": [
    "sd_cei = gpd.read_file('data/sd_climate_equity_index/City_of_San_Diego_CEI_2021_Revision.shp')\n",
    "\n",
    "sd_cei = to_snake_case(sd_cei)\n",
    "\n",
    "#sd_cei.head(3)"
   ]
  },
  {
   "cell_type": "code",
   "execution_count": 102,
   "metadata": {},
   "outputs": [
    {
     "data": {
      "text/plain": [
       "tract          float64\n",
       "cei_score_       int64\n",
       "cei_class_      object\n",
       "cei_score1       int64\n",
       "cei_class1      object\n",
       "flood_risk     float64\n",
       "fire_risk      float64\n",
       "tree_cover     float64\n",
       "urban_heat     float64\n",
       "proximity_     float64\n",
       "pesticide_     float64\n",
       "drinking_w     float64\n",
       "groundwate     float64\n",
       "impaired_w     float64\n",
       "air_qualit     float64\n",
       "air_qual_1     float64\n",
       "air_qual_2     float64\n",
       "toxic_rele     float64\n",
       "cleanup_si     float64\n",
       "hazardous_     float64\n",
       "solid_wast     float64\n",
       "unemployme     float64\n",
       "educationa     float64\n",
       "linguistic     float64\n",
       "digital_ac     float64\n",
       "median_inc     float64\n",
       "poverty_ra     float64\n",
       "income_cha     float64\n",
       "energy_cos     float64\n",
       "solar_phot     float64\n",
       "housing_co     float64\n",
       "overcrowde     float64\n",
       "pedestrian     float64\n",
       "commute_bu     float64\n",
       "transporta     float64\n",
       "disability     float64\n",
       "street_con     float64\n",
       "bikeabilit     float64\n",
       "access_to_     float64\n",
       "traffic_de     float64\n",
       "electric_v     float64\n",
       "asthma_rat     float64\n",
       "cancer_fat     float64\n",
       "healthy_fo     float64\n",
       "low_infant     float64\n",
       "cardiovasc     float64\n",
       "geometry      geometry\n",
       "dtype: object"
      ]
     },
     "execution_count": 102,
     "metadata": {},
     "output_type": "execute_result"
    }
   ],
   "source": [
    "# match crs\n",
    "sd_cei = sd_cei.to_crs(sb535_geo.crs)\n",
    "\n",
    "# dtypes\n",
    "sd_cei.dtypes"
   ]
  },
  {
   "cell_type": "code",
   "execution_count": 99,
   "metadata": {},
   "outputs": [
    {
     "data": {
      "text/plain": [
       "<Axes: >"
      ]
     },
     "execution_count": 99,
     "metadata": {},
     "output_type": "execute_result"
    },
    {
     "data": {
      "image/png": "[encoded data removed]",
      "text/plain": [
       "<Figure size 640x480 with 1 Axes>"
      ]
     },
     "metadata": {},
     "output_type": "display_data"
    }
   ],
   "source": [
    "sd_cei.plot()"
   ]
  },
  {
   "cell_type": "markdown",
   "metadata": {},
   "source": [
    "### EJScreen Tool Data"
   ]
  },
  {
   "cell_type": "code",
   "execution_count": 136,
   "metadata": {},
   "outputs": [],
   "source": [
    "# read in data & clean colnames \n",
    "ejscreen = to_snake_case(pd.read_csv('data/EJSCREEN_2023_Tracts_StatePct_with_AS_CNMI_GU_VI.csv'))\n",
    "\n",
    "# isolate CA\n",
    "ejscreen = ejscreen[ejscreen.state_name == 'California']"
   ]
  },
  {
   "cell_type": "code",
   "execution_count": 145,
   "metadata": {},
   "outputs": [
    {
     "ename": "KeyError",
     "evalue": "'shape'",
     "output_type": "error",
     "traceback": [
      "\u001b[0;31m---------------------------------------------------------------------------\u001b[0m",
      "\u001b[0;31mKeyError\u001b[0m                                  Traceback (most recent call last)",
      "File \u001b[0;32m~/anaconda3/envs/eds-env/lib/python3.11/site-packages/pandas/core/indexes/base.py:3802\u001b[0m, in \u001b[0;36mIndex.get_loc\u001b[0;34m(self, key)\u001b[0m\n\u001b[1;32m   3801\u001b[0m \u001b[39mtry\u001b[39;00m:\n\u001b[0;32m-> 3802\u001b[0m     \u001b[39mreturn\u001b[39;00m \u001b[39mself\u001b[39;49m\u001b[39m.\u001b[39;49m_engine\u001b[39m.\u001b[39;49mget_loc(casted_key)\n\u001b[1;32m   3803\u001b[0m \u001b[39mexcept\u001b[39;00m \u001b[39mKeyError\u001b[39;00m \u001b[39mas\u001b[39;00m err:\n",
      "File \u001b[0;32mindex.pyx:153\u001b[0m, in \u001b[0;36mpandas._libs.index.IndexEngine.get_loc\u001b[0;34m()\u001b[0m\n",
      "File \u001b[0;32mindex.pyx:182\u001b[0m, in \u001b[0;36mpandas._libs.index.IndexEngine.get_loc\u001b[0;34m()\u001b[0m\n",
      "File \u001b[0;32mpandas/_libs/hashtable_class_helper.pxi:7081\u001b[0m, in \u001b[0;36mpandas._libs.hashtable.PyObjectHashTable.get_item\u001b[0;34m()\u001b[0m\n",
      "File \u001b[0;32mpandas/_libs/hashtable_class_helper.pxi:7089\u001b[0m, in \u001b[0;36mpandas._libs.hashtable.PyObjectHashTable.get_item\u001b[0;34m()\u001b[0m\n",
      "\u001b[0;31mKeyError\u001b[0m: 'shape'",
      "\nThe above exception was the direct cause of the following exception:\n",
      "\u001b[0;31mKeyError\u001b[0m                                  Traceback (most recent call last)",
      "\u001b[1;32m/Users/sofiaingersoll/2035/iee_grid_modeling_project/identifying_ctracts_oversampling.ipynb Cell 27\u001b[0m line \u001b[0;36m1\n\u001b[0;32m----> <a href='vscode-notebook-cell:/Users/sofiaingersoll/2035/iee_grid_modeling_project/identifying_ctracts_oversampling.ipynb#X56sZmlsZQ%3D%3D?line=0'>1</a>\u001b[0m ejscreen[ejscreen[\u001b[39m'\u001b[39;49m\u001b[39mshape\u001b[39;49m\u001b[39m'\u001b[39;49m]]\u001b[39m.\u001b[39mapply(wkt\u001b[39m.\u001b[39mloads)\n",
      "File \u001b[0;32m~/anaconda3/envs/eds-env/lib/python3.11/site-packages/pandas/core/frame.py:4090\u001b[0m, in \u001b[0;36mDataFrame.__getitem__\u001b[0;34m(self, key)\u001b[0m\n\u001b[1;32m   4088\u001b[0m \u001b[39mif\u001b[39;00m \u001b[39mself\u001b[39m\u001b[39m.\u001b[39mcolumns\u001b[39m.\u001b[39mnlevels \u001b[39m>\u001b[39m \u001b[39m1\u001b[39m:\n\u001b[1;32m   4089\u001b[0m     \u001b[39mreturn\u001b[39;00m \u001b[39mself\u001b[39m\u001b[39m.\u001b[39m_getitem_multilevel(key)\n\u001b[0;32m-> 4090\u001b[0m indexer \u001b[39m=\u001b[39m \u001b[39mself\u001b[39;49m\u001b[39m.\u001b[39;49mcolumns\u001b[39m.\u001b[39;49mget_loc(key)\n\u001b[1;32m   4091\u001b[0m \u001b[39mif\u001b[39;00m is_integer(indexer):\n\u001b[1;32m   4092\u001b[0m     indexer \u001b[39m=\u001b[39m [indexer]\n",
      "File \u001b[0;32m~/anaconda3/envs/eds-env/lib/python3.11/site-packages/pandas/core/indexes/base.py:3809\u001b[0m, in \u001b[0;36mIndex.get_loc\u001b[0;34m(self, key)\u001b[0m\n\u001b[1;32m   3804\u001b[0m     \u001b[39mif\u001b[39;00m \u001b[39misinstance\u001b[39m(casted_key, \u001b[39mslice\u001b[39m) \u001b[39mor\u001b[39;00m (\n\u001b[1;32m   3805\u001b[0m         \u001b[39misinstance\u001b[39m(casted_key, abc\u001b[39m.\u001b[39mIterable)\n\u001b[1;32m   3806\u001b[0m         \u001b[39mand\u001b[39;00m \u001b[39many\u001b[39m(\u001b[39misinstance\u001b[39m(x, \u001b[39mslice\u001b[39m) \u001b[39mfor\u001b[39;00m x \u001b[39min\u001b[39;00m casted_key)\n\u001b[1;32m   3807\u001b[0m     ):\n\u001b[1;32m   3808\u001b[0m         \u001b[39mraise\u001b[39;00m InvalidIndexError(key)\n\u001b[0;32m-> 3809\u001b[0m     \u001b[39mraise\u001b[39;00m \u001b[39mKeyError\u001b[39;00m(key) \u001b[39mfrom\u001b[39;00m \u001b[39merr\u001b[39;00m\n\u001b[1;32m   3810\u001b[0m \u001b[39mexcept\u001b[39;00m \u001b[39mTypeError\u001b[39;00m:\n\u001b[1;32m   3811\u001b[0m     \u001b[39m# If we have a listlike key, _check_indexing_error will raise\u001b[39;00m\n\u001b[1;32m   3812\u001b[0m     \u001b[39m#  InvalidIndexError. Otherwise we fall through and re-raise\u001b[39;00m\n\u001b[1;32m   3813\u001b[0m     \u001b[39m#  the TypeError.\u001b[39;00m\n\u001b[1;32m   3814\u001b[0m     \u001b[39mself\u001b[39m\u001b[39m.\u001b[39m_check_indexing_error(key)\n",
      "\u001b[0;31mKeyError\u001b[0m: 'shape'"
     ]
    }
   ],
   "source": [
    "ejscreen[ejscreen['shape']].apply(wkt.loads)"
   ]
  },
  {
   "cell_type": "code",
   "execution_count": 133,
   "metadata": {},
   "outputs": [
    {
     "ename": "KeyError",
     "evalue": "'shape'",
     "output_type": "error",
     "traceback": [
      "\u001b[0;31m---------------------------------------------------------------------------\u001b[0m",
      "\u001b[0;31mKeyError\u001b[0m                                  Traceback (most recent call last)",
      "File \u001b[0;32m~/anaconda3/envs/eds-env/lib/python3.11/site-packages/pandas/core/indexes/base.py:3802\u001b[0m, in \u001b[0;36mIndex.get_loc\u001b[0;34m(self, key)\u001b[0m\n\u001b[1;32m   3801\u001b[0m \u001b[39mtry\u001b[39;00m:\n\u001b[0;32m-> 3802\u001b[0m     \u001b[39mreturn\u001b[39;00m \u001b[39mself\u001b[39;49m\u001b[39m.\u001b[39;49m_engine\u001b[39m.\u001b[39;49mget_loc(casted_key)\n\u001b[1;32m   3803\u001b[0m \u001b[39mexcept\u001b[39;00m \u001b[39mKeyError\u001b[39;00m \u001b[39mas\u001b[39;00m err:\n",
      "File \u001b[0;32mindex.pyx:153\u001b[0m, in \u001b[0;36mpandas._libs.index.IndexEngine.get_loc\u001b[0;34m()\u001b[0m\n",
      "File \u001b[0;32mindex.pyx:182\u001b[0m, in \u001b[0;36mpandas._libs.index.IndexEngine.get_loc\u001b[0;34m()\u001b[0m\n",
      "File \u001b[0;32mpandas/_libs/hashtable_class_helper.pxi:7081\u001b[0m, in \u001b[0;36mpandas._libs.hashtable.PyObjectHashTable.get_item\u001b[0;34m()\u001b[0m\n",
      "File \u001b[0;32mpandas/_libs/hashtable_class_helper.pxi:7089\u001b[0m, in \u001b[0;36mpandas._libs.hashtable.PyObjectHashTable.get_item\u001b[0;34m()\u001b[0m\n",
      "\u001b[0;31mKeyError\u001b[0m: 'shape'",
      "\nThe above exception was the direct cause of the following exception:\n",
      "\u001b[0;31mKeyError\u001b[0m                                  Traceback (most recent call last)",
      "\u001b[1;32m/Users/sofiaingersoll/2035/iee_grid_modeling_project/identifying_ctracts_oversampling.ipynb Cell 26\u001b[0m line \u001b[0;36m8\n\u001b[1;32m      <a href='vscode-notebook-cell:/Users/sofiaingersoll/2035/iee_grid_modeling_project/identifying_ctracts_oversampling.ipynb#X51sZmlsZQ%3D%3D?line=4'>5</a>\u001b[0m ejscreen \u001b[39m=\u001b[39m ejscreen[ejscreen\u001b[39m.\u001b[39mstate_name \u001b[39m==\u001b[39m \u001b[39m'\u001b[39m\u001b[39mCalifornia\u001b[39m\u001b[39m'\u001b[39m]\n\u001b[1;32m      <a href='vscode-notebook-cell:/Users/sofiaingersoll/2035/iee_grid_modeling_project/identifying_ctracts_oversampling.ipynb#X51sZmlsZQ%3D%3D?line=6'>7</a>\u001b[0m \u001b[39m# isolate geometry\u001b[39;00m\n\u001b[0;32m----> <a href='vscode-notebook-cell:/Users/sofiaingersoll/2035/iee_grid_modeling_project/identifying_ctracts_oversampling.ipynb#X51sZmlsZQ%3D%3D?line=7'>8</a>\u001b[0m ejscreen[\u001b[39m'\u001b[39m\u001b[39mgeometry\u001b[39m\u001b[39m'\u001b[39m] \u001b[39m=\u001b[39m ejscreen[\u001b[39m'\u001b[39;49m\u001b[39mshape\u001b[39;49m\u001b[39m'\u001b[39;49m]\n\u001b[1;32m     <a href='vscode-notebook-cell:/Users/sofiaingersoll/2035/iee_grid_modeling_project/identifying_ctracts_oversampling.ipynb#X51sZmlsZQ%3D%3D?line=9'>10</a>\u001b[0m \u001b[39m# convert to gpd df\u001b[39;00m\n\u001b[1;32m     <a href='vscode-notebook-cell:/Users/sofiaingersoll/2035/iee_grid_modeling_project/identifying_ctracts_oversampling.ipynb#X51sZmlsZQ%3D%3D?line=10'>11</a>\u001b[0m ejscreen_geo \u001b[39m=\u001b[39m gpd\u001b[39m.\u001b[39mGeoDataFrame(ejscreen,\n\u001b[1;32m     <a href='vscode-notebook-cell:/Users/sofiaingersoll/2035/iee_grid_modeling_project/identifying_ctracts_oversampling.ipynb#X51sZmlsZQ%3D%3D?line=11'>12</a>\u001b[0m                                 geometry \u001b[39m=\u001b[39m ejscreen\u001b[39m.\u001b[39mgeometry,\n\u001b[1;32m     <a href='vscode-notebook-cell:/Users/sofiaingersoll/2035/iee_grid_modeling_project/identifying_ctracts_oversampling.ipynb#X51sZmlsZQ%3D%3D?line=12'>13</a>\u001b[0m                                 crs \u001b[39m=\u001b[39m sb535_geo\u001b[39m.\u001b[39mcrs)\n",
      "File \u001b[0;32m~/anaconda3/envs/eds-env/lib/python3.11/site-packages/pandas/core/frame.py:4090\u001b[0m, in \u001b[0;36mDataFrame.__getitem__\u001b[0;34m(self, key)\u001b[0m\n\u001b[1;32m   4088\u001b[0m \u001b[39mif\u001b[39;00m \u001b[39mself\u001b[39m\u001b[39m.\u001b[39mcolumns\u001b[39m.\u001b[39mnlevels \u001b[39m>\u001b[39m \u001b[39m1\u001b[39m:\n\u001b[1;32m   4089\u001b[0m     \u001b[39mreturn\u001b[39;00m \u001b[39mself\u001b[39m\u001b[39m.\u001b[39m_getitem_multilevel(key)\n\u001b[0;32m-> 4090\u001b[0m indexer \u001b[39m=\u001b[39m \u001b[39mself\u001b[39;49m\u001b[39m.\u001b[39;49mcolumns\u001b[39m.\u001b[39;49mget_loc(key)\n\u001b[1;32m   4091\u001b[0m \u001b[39mif\u001b[39;00m is_integer(indexer):\n\u001b[1;32m   4092\u001b[0m     indexer \u001b[39m=\u001b[39m [indexer]\n",
      "File \u001b[0;32m~/anaconda3/envs/eds-env/lib/python3.11/site-packages/pandas/core/indexes/base.py:3809\u001b[0m, in \u001b[0;36mIndex.get_loc\u001b[0;34m(self, key)\u001b[0m\n\u001b[1;32m   3804\u001b[0m     \u001b[39mif\u001b[39;00m \u001b[39misinstance\u001b[39m(casted_key, \u001b[39mslice\u001b[39m) \u001b[39mor\u001b[39;00m (\n\u001b[1;32m   3805\u001b[0m         \u001b[39misinstance\u001b[39m(casted_key, abc\u001b[39m.\u001b[39mIterable)\n\u001b[1;32m   3806\u001b[0m         \u001b[39mand\u001b[39;00m \u001b[39many\u001b[39m(\u001b[39misinstance\u001b[39m(x, \u001b[39mslice\u001b[39m) \u001b[39mfor\u001b[39;00m x \u001b[39min\u001b[39;00m casted_key)\n\u001b[1;32m   3807\u001b[0m     ):\n\u001b[1;32m   3808\u001b[0m         \u001b[39mraise\u001b[39;00m InvalidIndexError(key)\n\u001b[0;32m-> 3809\u001b[0m     \u001b[39mraise\u001b[39;00m \u001b[39mKeyError\u001b[39;00m(key) \u001b[39mfrom\u001b[39;00m \u001b[39merr\u001b[39;00m\n\u001b[1;32m   3810\u001b[0m \u001b[39mexcept\u001b[39;00m \u001b[39mTypeError\u001b[39;00m:\n\u001b[1;32m   3811\u001b[0m     \u001b[39m# If we have a listlike key, _check_indexing_error will raise\u001b[39;00m\n\u001b[1;32m   3812\u001b[0m     \u001b[39m#  InvalidIndexError. Otherwise we fall through and re-raise\u001b[39;00m\n\u001b[1;32m   3813\u001b[0m     \u001b[39m#  the TypeError.\u001b[39;00m\n\u001b[1;32m   3814\u001b[0m     \u001b[39mself\u001b[39m\u001b[39m.\u001b[39m_check_indexing_error(key)\n",
      "\u001b[0;31mKeyError\u001b[0m: 'shape'"
     ]
    }
   ],
   "source": [
    "# isolate geometry\n",
    "ejscreen['geometry'] = ejscreen['shape']\n",
    "\n",
    "# convert to gpd df\n",
    "ejscreen_geo = gpd.GeoDataFrame(ejscreen,\n",
    "                                geometry = ejscreen.geometry,\n",
    "                                crs = sb535_geo.crs)\n",
    "\n",
    "ejscreen_geo.head(5)"
   ]
  },
  {
   "cell_type": "code",
   "execution_count": 121,
   "metadata": {},
   "outputs": [
    {
     "data": {
      "text/plain": [
       "oid_                     object\n",
       "id                       object\n",
       "state_name               object\n",
       "st_abbrev                object\n",
       "cnty_name                object\n",
       "                         ...   \n",
       "exceed_count_80          object\n",
       "exceed_count_80_sup      object\n",
       "shape_length             object\n",
       "shape_area               object\n",
       "geometry               geometry\n",
       "Length: 127, dtype: object"
      ]
     },
     "execution_count": 121,
     "metadata": {},
     "output_type": "execute_result"
    }
   ],
   "source": [
    "ejscreen.columns.tolist()\n",
    "\n",
    "ejscreen.dtypes"
   ]
  },
  {
   "cell_type": "code",
   "execution_count": 127,
   "metadata": {},
   "outputs": [
    {
     "data": {
      "text/plain": [
       "<Axes: >"
      ]
     },
     "execution_count": 127,
     "metadata": {},
     "output_type": "execute_result"
    },
    {
     "data": {
      "image/png": "[encoded data removed]",
      "text/plain": [
       "<Figure size 640x480 with 1 Axes>"
      ]
     },
     "metadata": {},
     "output_type": "display_data"
    }
   ],
   "source": [
    "ejscreen_geo.plot()"
   ]
  },
  {
   "cell_type": "markdown",
   "metadata": {},
   "source": []
  },
  {
   "cell_type": "code",
   "execution_count": null,
   "metadata": {},
   "outputs": [],
   "source": []
  },
  {
   "cell_type": "code",
   "execution_count": null,
   "metadata": {},
   "outputs": [],
   "source": []
  },
  {
   "cell_type": "markdown",
   "metadata": {},
   "source": [
    "#### Mapping"
   ]
  },
  {
   "cell_type": "markdown",
   "metadata": {},
   "source": []
  },
  {
   "cell_type": "markdown",
   "metadata": {},
   "source": [
    "#### Interpretting\n",
    "\n",
    "Include explanation of CalEnviroScreen Scores"
   ]
  },
  {
   "cell_type": "code",
   "execution_count": null,
   "metadata": {},
   "outputs": [],
   "source": []
  }
 ],
 "metadata": {
  "kernelspec": {
   "display_name": ".venv",
   "language": "python",
   "name": "python3"
  },
  "language_info": {
   "codemirror_mode": {
    "name": "ipython",
    "version": 3
   },
   "file_extension": ".py",
   "mimetype": "text/x-python",
   "name": "python",
   "nbconvert_exporter": "python",
   "pygments_lexer": "ipython3",
   "version": "3.11.4"
  }
 },
 "nbformat": 4,
 "nbformat_minor": 2
}
