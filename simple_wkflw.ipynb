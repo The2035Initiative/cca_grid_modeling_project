{
 "cells": [
  {
   "cell_type": "markdown",
   "metadata": {},
   "source": [
    "### Notebook Objective \n",
    "\n",
    "Author: Sofia Ingersoll\n",
    "\n",
    "Date: 2024-07-01\n",
    "\n",
    "\n",
    "To provide an update on this project to our team, I am subsetting the data that plotted properly in `identifying_ctracts_oversampling.ipynb` and overlaying them to see their overlap relative to the CalEnviroScreen data. An output of 2 csv files containing census tracts that overlapped, and census tracts that did not overlap will be produced, alongside some engaging visualizations. The objective is to create a framework that will be later leveraged once the Climate Vulnerability Metric and EJScreen data are wrangled.\n"
   ]
  },
  {
   "cell_type": "markdown",
   "metadata": {},
   "source": [
    "##### Read n' Wrangle\n",
    "Okay here we are going to read in the data that were successful in the `identifying_ctracts_oversampling.ipynb` and overlay them.\n",
    "\n",
    "The data that was being difficult in the other notebook will be excluded for now and added once the cleaning is complete. Climate & Vulnerability Mertics are being a pain bc the files lack complete information regarding geolocation and/or fsip (tract id). EJScreen is also being tempermental."
   ]
  },
  {
   "cell_type": "code",
   "execution_count": null,
   "metadata": {},
   "outputs": [],
   "source": []
  }
 ],
 "metadata": {
  "language_info": {
   "name": "python"
  }
 },
 "nbformat": 4,
 "nbformat_minor": 2
}
