{
 "cells": [
  {
   "cell_type": "markdown",
   "metadata": {},
   "source": [
    "# Relating Data with Intermediate Tables\n",
    "Author: Sofia Ingersoll\n",
    "\n",
    "Date: 2024-07-02\n",
    "\n",
    "This notebook contains the development of the intermediate tables required to relate the Climate Vulnerability Metrics Indicators data to it's associated geo-locations."
   ]
  },
  {
   "cell_type": "markdown",
   "metadata": {},
   "source": [
    "### Notes about Climate Vulnerability Metric Indicator Data\n",
    "`county_fips` FIPS code of county that geotype is in\tT\t2-digit census state code (06) plus 3-digit census county code\n",
    "\n",
    "`geotypevalue` is the value of geographic unit\tN\tFIPS ID; region id\n"
   ]
  }
 ],
 "metadata": {
  "language_info": {
   "name": "python"
  }
 },
 "nbformat": 4,
 "nbformat_minor": 2
}
