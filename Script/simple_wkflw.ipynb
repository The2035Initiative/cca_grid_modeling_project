{
 "cells": [
  {
   "cell_type": "markdown",
   "metadata": {},
   "source": [
    "### Notebook Objective \n",
    "\n",
    "Author: Sofia Ingersoll\n",
    "\n",
    "Date: 2024-07-01\n",
    "\n",
    "\n",
    "To provide an update on this project to our team, I am subsetting the data that plotted properly in `identifying_ctracts_oversampling.ipynb` and overlaying them to see their overlap relative to the CalEnviroScreen data. An output of 2 csv files containing census tracts that overlapped, and census tracts that did not overlap will be produced, alongside some engaging visualizations. The objective is to create a framework that will be later leveraged once the Climate Vulnerability Metric and EJScreen data are wrangled.\n"
   ]
  },
  {
   "cell_type": "markdown",
   "metadata": {},
   "source": [
    "#### Rough Game Plan\n",
    "\n",
    "##### Quick Mapping\n",
    "- Read in simple the CA tract data\n",
    "- Convert everything into geospatial objects\n",
    "- Assess and identify components provided in each data set (Get familair with data)\n",
    "- Match CRS + resolution\n",
    "- Overlay maps to visualize areas without intersectionality \n",
    "\n",
    "##### Surveying Application of Results\n",
    "- Create a xlsx of the census tracts that have zero intersection\n",
    "- Create a xlsx of the census tracts with the most overlap\n",
    "\n",
    "##### Interpretting\n",
    "- What % of CA tracts are within the overlapping regions?\n",
    "- What is the approximate population within those regions?\n",
    "- Same questions for those regions **not** intersecting"
   ]
  },
  {
   "cell_type": "code",
   "execution_count": 30,
   "metadata": {},
   "outputs": [],
   "source": [
    "# loading libraries\n",
    "import os\n",
    "import pandas as pd\n",
    "import numpy as np\n",
    "import geopandas as gpd \n",
    "import xarray as xr \n",
    "import rioxarray as rioxr\n",
    "import rasterio \n",
    "import matplotlib.pyplot as plt\n",
    "import ipyleaflet\n",
    "import folium\n",
    "from ipyleaflet import GeoJSON, Map, Marker, Popup, basemap_to_tiles, basemaps, LayersControl, Marker, Popup, GeoData\n",
    "from ipywidgets import HTML \n",
    "\n",
    "from shapely.validation import make_valid\n",
    "\n",
    "\n",
    "# Function to convert column names to snake_case\n",
    "def to_snake_case(df):\n",
    "    df.columns = df.columns.str.strip().str.replace(' ', '_').str.replace('\\n', '_').str.lower()\n",
    "    return df"
   ]
  },
  {
   "cell_type": "markdown",
   "metadata": {},
   "source": [
    "##### Read n' Wrangle\n",
    "Okay here we are going to read in the data that were successful in the `identifying_ctracts_oversampling.ipynb` and overlay them.\n",
    "\n",
    "The data that was being difficult in the other notebook will be excluded for now and added once the cleaning is complete. Climate & Vulnerability Mertics are being a pain bc the files lack complete information regarding geolocation and/or fsip (tract id). EJScreen is also being tempermental.\n",
    "\n",
    "For consistency's sake CRS EPSG:2227 - NAD83 / California zone 3 (ftUS) was selected because it is best suited for the state of California."
   ]
  },
  {
   "cell_type": "markdown",
   "metadata": {},
   "source": [
    "**CalEnviroScreen data** \n",
    "\n",
    "Key attributes we'll want to look at easily are `tract`,"
   ]
  },
  {
   "cell_type": "code",
   "execution_count": 2,
   "metadata": {},
   "outputs": [
    {
     "data": {
      "text/html": [
       "<div>\n",
       "<style scoped>\n",
       "    .dataframe tbody tr th:only-of-type {\n",
       "        vertical-align: middle;\n",
       "    }\n",
       "\n",
       "    .dataframe tbody tr th {\n",
       "        vertical-align: top;\n",
       "    }\n",
       "\n",
       "    .dataframe thead th {\n",
       "        text-align: right;\n",
       "    }\n",
       "</style>\n",
       "<table border=\"1\" class=\"dataframe\">\n",
       "  <thead>\n",
       "    <tr style=\"text-align: right;\">\n",
       "      <th></th>\n",
       "      <th>tract</th>\n",
       "      <th>zip</th>\n",
       "      <th>county</th>\n",
       "      <th>approxloc</th>\n",
       "      <th>totpop19</th>\n",
       "      <th>ciscore</th>\n",
       "      <th>ciscorep</th>\n",
       "      <th>ozone</th>\n",
       "      <th>ozonep</th>\n",
       "      <th>pm2_5</th>\n",
       "      <th>...</th>\n",
       "      <th>elderly65</th>\n",
       "      <th>hispanic</th>\n",
       "      <th>white</th>\n",
       "      <th>africanam</th>\n",
       "      <th>nativeam</th>\n",
       "      <th>othermult</th>\n",
       "      <th>shape_leng</th>\n",
       "      <th>shape_area</th>\n",
       "      <th>aapi</th>\n",
       "      <th>geometry</th>\n",
       "    </tr>\n",
       "  </thead>\n",
       "  <tbody>\n",
       "    <tr>\n",
       "      <th>0</th>\n",
       "      <td>6.083002e+09</td>\n",
       "      <td>93454</td>\n",
       "      <td>Santa Barbara</td>\n",
       "      <td>Santa Maria</td>\n",
       "      <td>4495</td>\n",
       "      <td>36.019653</td>\n",
       "      <td>69.162885</td>\n",
       "      <td>0.034190</td>\n",
       "      <td>10.566273</td>\n",
       "      <td>7.567724</td>\n",
       "      <td>...</td>\n",
       "      <td>12.5028</td>\n",
       "      <td>68.9210</td>\n",
       "      <td>20.8899</td>\n",
       "      <td>0.4004</td>\n",
       "      <td>0.267</td>\n",
       "      <td>1.3126</td>\n",
       "      <td>6999.357689</td>\n",
       "      <td>2.847611e+06</td>\n",
       "      <td>8.2091</td>\n",
       "      <td>POLYGON ((6580888.757 1071692.998, 6586374.203...</td>\n",
       "    </tr>\n",
       "    <tr>\n",
       "      <th>1</th>\n",
       "      <td>6.083002e+09</td>\n",
       "      <td>93455</td>\n",
       "      <td>Santa Barbara</td>\n",
       "      <td>Santa Maria</td>\n",
       "      <td>13173</td>\n",
       "      <td>37.030667</td>\n",
       "      <td>70.637922</td>\n",
       "      <td>0.035217</td>\n",
       "      <td>11.561917</td>\n",
       "      <td>7.624775</td>\n",
       "      <td>...</td>\n",
       "      <td>5.3519</td>\n",
       "      <td>78.6229</td>\n",
       "      <td>13.2240</td>\n",
       "      <td>2.5051</td>\n",
       "      <td>0.000</td>\n",
       "      <td>0.9489</td>\n",
       "      <td>19100.578232</td>\n",
       "      <td>1.635292e+07</td>\n",
       "      <td>4.6990</td>\n",
       "      <td>POLYGON ((6580888.757 1071692.998, 6580894.664...</td>\n",
       "    </tr>\n",
       "    <tr>\n",
       "      <th>2</th>\n",
       "      <td>6.083002e+09</td>\n",
       "      <td>93454</td>\n",
       "      <td>Santa Barbara</td>\n",
       "      <td>Santa Maria</td>\n",
       "      <td>2398</td>\n",
       "      <td>31.213140</td>\n",
       "      <td>61.069087</td>\n",
       "      <td>0.034190</td>\n",
       "      <td>10.566273</td>\n",
       "      <td>7.548835</td>\n",
       "      <td>...</td>\n",
       "      <td>12.8857</td>\n",
       "      <td>65.7214</td>\n",
       "      <td>30.6088</td>\n",
       "      <td>0.9591</td>\n",
       "      <td>0.000</td>\n",
       "      <td>2.1685</td>\n",
       "      <td>4970.985897</td>\n",
       "      <td>1.352329e+06</td>\n",
       "      <td>0.5421</td>\n",
       "      <td>POLYGON ((6586394.940 1074311.362, 6586374.203...</td>\n",
       "    </tr>\n",
       "  </tbody>\n",
       "</table>\n",
       "<p>3 rows × 67 columns</p>\n",
       "</div>"
      ],
      "text/plain": [
       "          tract    zip         county    approxloc  totpop19    ciscore  \\\n",
       "0  6.083002e+09  93454  Santa Barbara  Santa Maria      4495  36.019653   \n",
       "1  6.083002e+09  93455  Santa Barbara  Santa Maria     13173  37.030667   \n",
       "2  6.083002e+09  93454  Santa Barbara  Santa Maria      2398  31.213140   \n",
       "\n",
       "    ciscorep     ozone     ozonep     pm2_5  ...  elderly65  hispanic  \\\n",
       "0  69.162885  0.034190  10.566273  7.567724  ...    12.5028   68.9210   \n",
       "1  70.637922  0.035217  11.561917  7.624775  ...     5.3519   78.6229   \n",
       "2  61.069087  0.034190  10.566273  7.548835  ...    12.8857   65.7214   \n",
       "\n",
       "     white  africanam  nativeam  othermult    shape_leng    shape_area  \\\n",
       "0  20.8899     0.4004     0.267     1.3126   6999.357689  2.847611e+06   \n",
       "1  13.2240     2.5051     0.000     0.9489  19100.578232  1.635292e+07   \n",
       "2  30.6088     0.9591     0.000     2.1685   4970.985897  1.352329e+06   \n",
       "\n",
       "     aapi                                           geometry  \n",
       "0  8.2091  POLYGON ((6580888.757 1071692.998, 6586374.203...  \n",
       "1  4.6990  POLYGON ((6580888.757 1071692.998, 6580894.664...  \n",
       "2  0.5421  POLYGON ((6586394.940 1074311.362, 6586374.203...  \n",
       "\n",
       "[3 rows x 67 columns]"
      ]
     },
     "execution_count": 2,
     "metadata": {},
     "output_type": "execute_result"
    }
   ],
   "source": [
    "# import CES shapefile\n",
    "calenviro = gpd.read_file('../data/CalEnviroScreen/CES4 Final Shapefile.shp')\n",
    "\n",
    "# clean naming for easier \n",
    "calenviro = to_snake_case(calenviro)\n",
    "\n",
    "# crs config\n",
    "calenviro = calenviro.to_crs('EPSG:2227')\n",
    "\n",
    "calenviro.head(3)"
   ]
  },
  {
   "cell_type": "code",
   "execution_count": 4,
   "metadata": {},
   "outputs": [
    {
     "data": {
      "text/plain": [
       "8035"
      ]
     },
     "execution_count": 4,
     "metadata": {},
     "output_type": "execute_result"
    }
   ],
   "source": [
    "# how many unique census tracts are accounted for\n",
    "len(calenviro.tract.unique())"
   ]
  },
  {
   "cell_type": "markdown",
   "metadata": {},
   "source": [
    "**EJScreen Data**\n",
    "\n",
    "`id` is the tract_id, however it lacks the necessary geolocation information to make it into a gpd"
   ]
  },
  {
   "cell_type": "code",
   "execution_count": 4,
   "metadata": {},
   "outputs": [
    {
     "data": {
      "text/html": [
       "<div>\n",
       "<style scoped>\n",
       "    .dataframe tbody tr th:only-of-type {\n",
       "        vertical-align: middle;\n",
       "    }\n",
       "\n",
       "    .dataframe tbody tr th {\n",
       "        vertical-align: top;\n",
       "    }\n",
       "\n",
       "    .dataframe thead th {\n",
       "        text-align: right;\n",
       "    }\n",
       "</style>\n",
       "<table border=\"1\" class=\"dataframe\">\n",
       "  <thead>\n",
       "    <tr style=\"text-align: right;\">\n",
       "      <th></th>\n",
       "      <th>oid_</th>\n",
       "      <th>id</th>\n",
       "      <th>state_name</th>\n",
       "      <th>st_abbrev</th>\n",
       "      <th>cnty_name</th>\n",
       "      <th>region</th>\n",
       "      <th>acstotpop</th>\n",
       "      <th>acsipovbas</th>\n",
       "      <th>acseducbas</th>\n",
       "      <th>acstothh</th>\n",
       "      <th>...</th>\n",
       "      <th>p_d5_pwdis</th>\n",
       "      <th>arealand</th>\n",
       "      <th>areawater</th>\n",
       "      <th>npl_cnt</th>\n",
       "      <th>tsdf_cnt</th>\n",
       "      <th>exceed_count_80</th>\n",
       "      <th>exceed_count_80_sup</th>\n",
       "      <th>shape_length</th>\n",
       "      <th>shape_area</th>\n",
       "      <th>tract</th>\n",
       "    </tr>\n",
       "  </thead>\n",
       "  <tbody>\n",
       "    <tr>\n",
       "      <th>4202</th>\n",
       "      <td>4203</td>\n",
       "      <td>6001400100</td>\n",
       "      <td>California</td>\n",
       "      <td>CA</td>\n",
       "      <td>Alameda</td>\n",
       "      <td>9</td>\n",
       "      <td>3324.0</td>\n",
       "      <td>3313.0</td>\n",
       "      <td>2513.0</td>\n",
       "      <td>1337.0</td>\n",
       "      <td>...</td>\n",
       "      <td>25.0</td>\n",
       "      <td>6945856.0</td>\n",
       "      <td>0.0</td>\n",
       "      <td>0</td>\n",
       "      <td>0</td>\n",
       "      <td>0</td>\n",
       "      <td>0.0</td>\n",
       "      <td>0.143536</td>\n",
       "      <td>0.000711</td>\n",
       "      <td>6.0014e+09</td>\n",
       "    </tr>\n",
       "    <tr>\n",
       "      <th>4203</th>\n",
       "      <td>4204</td>\n",
       "      <td>6001400200</td>\n",
       "      <td>California</td>\n",
       "      <td>CA</td>\n",
       "      <td>Alameda</td>\n",
       "      <td>9</td>\n",
       "      <td>2038.0</td>\n",
       "      <td>2038.0</td>\n",
       "      <td>1621.0</td>\n",
       "      <td>868.0</td>\n",
       "      <td>...</td>\n",
       "      <td>28.0</td>\n",
       "      <td>586560.0</td>\n",
       "      <td>0.0</td>\n",
       "      <td>0</td>\n",
       "      <td>0</td>\n",
       "      <td>0</td>\n",
       "      <td>0.0</td>\n",
       "      <td>0.041978</td>\n",
       "      <td>0.000060</td>\n",
       "      <td>6.0014e+09</td>\n",
       "    </tr>\n",
       "    <tr>\n",
       "      <th>4204</th>\n",
       "      <td>4205</td>\n",
       "      <td>6001400300</td>\n",
       "      <td>California</td>\n",
       "      <td>CA</td>\n",
       "      <td>Alameda</td>\n",
       "      <td>9</td>\n",
       "      <td>5449.0</td>\n",
       "      <td>5410.0</td>\n",
       "      <td>4358.0</td>\n",
       "      <td>2548.0</td>\n",
       "      <td>...</td>\n",
       "      <td>29.0</td>\n",
       "      <td>1110840.0</td>\n",
       "      <td>0.0</td>\n",
       "      <td>0</td>\n",
       "      <td>0</td>\n",
       "      <td>0</td>\n",
       "      <td>0.0</td>\n",
       "      <td>0.055377</td>\n",
       "      <td>0.000114</td>\n",
       "      <td>6.0014e+09</td>\n",
       "    </tr>\n",
       "  </tbody>\n",
       "</table>\n",
       "<p>3 rows × 127 columns</p>\n",
       "</div>"
      ],
      "text/plain": [
       "      oid_          id  state_name st_abbrev cnty_name  region  acstotpop  \\\n",
       "4202  4203  6001400100  California        CA   Alameda       9     3324.0   \n",
       "4203  4204  6001400200  California        CA   Alameda       9     2038.0   \n",
       "4204  4205  6001400300  California        CA   Alameda       9     5449.0   \n",
       "\n",
       "      acsipovbas  acseducbas  acstothh  ...  p_d5_pwdis   arealand  areawater  \\\n",
       "4202      3313.0      2513.0    1337.0  ...        25.0  6945856.0        0.0   \n",
       "4203      2038.0      1621.0     868.0  ...        28.0   586560.0        0.0   \n",
       "4204      5410.0      4358.0    2548.0  ...        29.0  1110840.0        0.0   \n",
       "\n",
       "      npl_cnt  tsdf_cnt  exceed_count_80  exceed_count_80_sup  shape_length  \\\n",
       "4202        0         0                0                  0.0      0.143536   \n",
       "4203        0         0                0                  0.0      0.041978   \n",
       "4204        0         0                0                  0.0      0.055377   \n",
       "\n",
       "      shape_area       tract  \n",
       "4202    0.000711  6.0014e+09  \n",
       "4203    0.000060  6.0014e+09  \n",
       "4204    0.000114  6.0014e+09  \n",
       "\n",
       "[3 rows x 127 columns]"
      ]
     },
     "execution_count": 4,
     "metadata": {},
     "output_type": "execute_result"
    }
   ],
   "source": [
    "# read in data & clean colnames \n",
    "ejscreen = to_snake_case(pd.read_csv('../data/EJSCREEN_2023_Tracts_StatePct_with_AS_CNMI_GU_VI.csv'))\n",
    "\n",
    "# isolate CA\n",
    "ejscreen = ejscreen[ejscreen.state_name == 'California']\n",
    "\n",
    "# real quick let's convert the geoid10 format to scientific notation to match the other data\n",
    "# using the g format specifier to automatically choose between fixed and scientific notation based on the number −\n",
    "# let's also make our lives easier later and convert this column name to tract \n",
    "# this will not run if NaN are present, so this confirms the data is clean\n",
    "ejscreen.loc[:, 'tract'] = ejscreen['id'].apply(lambda x: f'{int(x):.6g}')\n",
    "\n",
    "ejscreen.head(3)"
   ]
  },
  {
   "cell_type": "code",
   "execution_count": 6,
   "metadata": {},
   "outputs": [
    {
     "data": {
      "text/plain": [
       "190"
      ]
     },
     "execution_count": 6,
     "metadata": {},
     "output_type": "execute_result"
    }
   ],
   "source": [
    "# how many unique census tracts are accounted for\n",
    "len(ejscreen.tract.unique())"
   ]
  },
  {
   "cell_type": "code",
   "execution_count": 5,
   "metadata": {},
   "outputs": [
    {
     "data": {
      "text/html": [
       "<div>\n",
       "<style scoped>\n",
       "    .dataframe tbody tr th:only-of-type {\n",
       "        vertical-align: middle;\n",
       "    }\n",
       "\n",
       "    .dataframe tbody tr th {\n",
       "        vertical-align: top;\n",
       "    }\n",
       "\n",
       "    .dataframe thead th {\n",
       "        text-align: right;\n",
       "    }\n",
       "</style>\n",
       "<table border=\"1\" class=\"dataframe\">\n",
       "  <thead>\n",
       "    <tr style=\"text-align: right;\">\n",
       "      <th></th>\n",
       "      <th>oid_</th>\n",
       "      <th>id</th>\n",
       "      <th>state_name</th>\n",
       "      <th>st_abbrev</th>\n",
       "      <th>cnty_name</th>\n",
       "      <th>region</th>\n",
       "      <th>acstotpop</th>\n",
       "      <th>acsipovbas</th>\n",
       "      <th>acseducbas</th>\n",
       "      <th>acstothh</th>\n",
       "      <th>...</th>\n",
       "      <th>elderly65</th>\n",
       "      <th>hispanic</th>\n",
       "      <th>white</th>\n",
       "      <th>africanam</th>\n",
       "      <th>nativeam</th>\n",
       "      <th>othermult</th>\n",
       "      <th>shape_leng</th>\n",
       "      <th>shape_area_y</th>\n",
       "      <th>aapi</th>\n",
       "      <th>geometry</th>\n",
       "    </tr>\n",
       "  </thead>\n",
       "  <tbody>\n",
       "    <tr>\n",
       "      <th>0</th>\n",
       "      <td>4203</td>\n",
       "      <td>6001400100</td>\n",
       "      <td>California</td>\n",
       "      <td>CA</td>\n",
       "      <td>Alameda</td>\n",
       "      <td>9</td>\n",
       "      <td>3324.0</td>\n",
       "      <td>3313.0</td>\n",
       "      <td>2513.0</td>\n",
       "      <td>1337.0</td>\n",
       "      <td>...</td>\n",
       "      <td>13.6282</td>\n",
       "      <td>39.0835</td>\n",
       "      <td>19.4517</td>\n",
       "      <td>2.9017</td>\n",
       "      <td>0.9606</td>\n",
       "      <td>3.8223</td>\n",
       "      <td>5499.177517</td>\n",
       "      <td>1.273685e+06</td>\n",
       "      <td>33.7803</td>\n",
       "      <td>POLYGON ((6109597.880 2057572.435, 6108993.110...</td>\n",
       "    </tr>\n",
       "    <tr>\n",
       "      <th>1</th>\n",
       "      <td>4203</td>\n",
       "      <td>6001400100</td>\n",
       "      <td>California</td>\n",
       "      <td>CA</td>\n",
       "      <td>Alameda</td>\n",
       "      <td>9</td>\n",
       "      <td>3324.0</td>\n",
       "      <td>3313.0</td>\n",
       "      <td>2513.0</td>\n",
       "      <td>1337.0</td>\n",
       "      <td>...</td>\n",
       "      <td>14.5768</td>\n",
       "      <td>54.4333</td>\n",
       "      <td>13.9742</td>\n",
       "      <td>3.9311</td>\n",
       "      <td>0.4017</td>\n",
       "      <td>1.4921</td>\n",
       "      <td>4229.811913</td>\n",
       "      <td>8.603767e+05</td>\n",
       "      <td>25.7676</td>\n",
       "      <td>POLYGON ((6100666.476 2062035.380, 6101005.372...</td>\n",
       "    </tr>\n",
       "    <tr>\n",
       "      <th>2</th>\n",
       "      <td>4203</td>\n",
       "      <td>6001400100</td>\n",
       "      <td>California</td>\n",
       "      <td>CA</td>\n",
       "      <td>Alameda</td>\n",
       "      <td>9</td>\n",
       "      <td>3324.0</td>\n",
       "      <td>3313.0</td>\n",
       "      <td>2513.0</td>\n",
       "      <td>1337.0</td>\n",
       "      <td>...</td>\n",
       "      <td>11.2128</td>\n",
       "      <td>17.0481</td>\n",
       "      <td>15.0114</td>\n",
       "      <td>21.6018</td>\n",
       "      <td>1.3043</td>\n",
       "      <td>1.6476</td>\n",
       "      <td>3576.771195</td>\n",
       "      <td>5.172978e+05</td>\n",
       "      <td>43.3867</td>\n",
       "      <td>POLYGON ((6060105.422 2117832.474, 6060931.214...</td>\n",
       "    </tr>\n",
       "  </tbody>\n",
       "</table>\n",
       "<p>3 rows × 194 columns</p>\n",
       "</div>"
      ],
      "text/plain": [
       "   oid_          id  state_name st_abbrev cnty_name  region  acstotpop  \\\n",
       "0  4203  6001400100  California        CA   Alameda       9     3324.0   \n",
       "1  4203  6001400100  California        CA   Alameda       9     3324.0   \n",
       "2  4203  6001400100  California        CA   Alameda       9     3324.0   \n",
       "\n",
       "   acsipovbas  acseducbas  acstothh  ...  elderly65  hispanic    white  \\\n",
       "0      3313.0      2513.0    1337.0  ...    13.6282   39.0835  19.4517   \n",
       "1      3313.0      2513.0    1337.0  ...    14.5768   54.4333  13.9742   \n",
       "2      3313.0      2513.0    1337.0  ...    11.2128   17.0481  15.0114   \n",
       "\n",
       "   africanam  nativeam  othermult   shape_leng  shape_area_y     aapi  \\\n",
       "0     2.9017    0.9606     3.8223  5499.177517  1.273685e+06  33.7803   \n",
       "1     3.9311    0.4017     1.4921  4229.811913  8.603767e+05  25.7676   \n",
       "2    21.6018    1.3043     1.6476  3576.771195  5.172978e+05  43.3867   \n",
       "\n",
       "                                            geometry  \n",
       "0  POLYGON ((6109597.880 2057572.435, 6108993.110...  \n",
       "1  POLYGON ((6100666.476 2062035.380, 6101005.372...  \n",
       "2  POLYGON ((6060105.422 2117832.474, 6060931.214...  \n",
       "\n",
       "[3 rows x 194 columns]"
      ]
     },
     "execution_count": 5,
     "metadata": {},
     "output_type": "execute_result"
    }
   ],
   "source": [
    "# assign geometry to counties using inner join\n",
    "ejscreen_geo = ejscreen.merge(calenviro, how='inner', left_on = 'cnty_name', right_on='county')\n",
    "\n",
    "ejscreen_geo.head(3)"
   ]
  },
  {
   "cell_type": "markdown",
   "metadata": {},
   "source": [
    "### The following datum contain their own geographic info\n",
    "\n",
    "**SB535 Disadvantaged Communities data**\n",
    "\n",
    "Key attributes we'll want to look at easily are `census_tract`,"
   ]
  },
  {
   "cell_type": "code",
   "execution_count": 3,
   "metadata": {},
   "outputs": [
    {
     "data": {
      "text/html": [
       "<div>\n",
       "<style scoped>\n",
       "    .dataframe tbody tr th:only-of-type {\n",
       "        vertical-align: middle;\n",
       "    }\n",
       "\n",
       "    .dataframe tbody tr th {\n",
       "        vertical-align: top;\n",
       "    }\n",
       "\n",
       "    .dataframe thead th {\n",
       "        text-align: right;\n",
       "    }\n",
       "</style>\n",
       "<table border=\"1\" class=\"dataframe\">\n",
       "  <thead>\n",
       "    <tr style=\"text-align: right;\">\n",
       "      <th></th>\n",
       "      <th>census_tract</th>\n",
       "      <th>calenviroscreen_4.0_score</th>\n",
       "      <th>calenviroscreen_4.0_percentile</th>\n",
       "      <th>calenviroscreen_4.0__percentile_range</th>\n",
       "      <th>pollution_burden_percentile</th>\n",
       "      <th>population_characteristics_percentile</th>\n",
       "      <th>total_population</th>\n",
       "      <th>california_county</th>\n",
       "      <th>approximate_zip_code</th>\n",
       "      <th>approximate_location</th>\n",
       "      <th>...</th>\n",
       "      <th>poverty</th>\n",
       "      <th>poverty_pctl</th>\n",
       "      <th>unemployment</th>\n",
       "      <th>unemployment_pctl</th>\n",
       "      <th>housing_burden</th>\n",
       "      <th>housing_burden_pctl</th>\n",
       "      <th>pop._char.</th>\n",
       "      <th>pop._char._score</th>\n",
       "      <th>pop._char._pctl</th>\n",
       "      <th>geometry</th>\n",
       "    </tr>\n",
       "  </thead>\n",
       "  <tbody>\n",
       "    <tr>\n",
       "      <th>0</th>\n",
       "      <td>6.001401e+09</td>\n",
       "      <td>40.706036</td>\n",
       "      <td>76.147252</td>\n",
       "      <td>75-80%</td>\n",
       "      <td>66.409459</td>\n",
       "      <td>74.848714</td>\n",
       "      <td>2471.0</td>\n",
       "      <td>Alameda</td>\n",
       "      <td>94608.0</td>\n",
       "      <td>Oakland</td>\n",
       "      <td>...</td>\n",
       "      <td>NaN</td>\n",
       "      <td>NaN</td>\n",
       "      <td>NaN</td>\n",
       "      <td>NaN</td>\n",
       "      <td>NaN</td>\n",
       "      <td>NaN</td>\n",
       "      <td>NaN</td>\n",
       "      <td>NaN</td>\n",
       "      <td>NaN</td>\n",
       "      <td>POINT EMPTY</td>\n",
       "    </tr>\n",
       "    <tr>\n",
       "      <th>1</th>\n",
       "      <td>6.001401e+09</td>\n",
       "      <td>43.736745</td>\n",
       "      <td>80.408472</td>\n",
       "      <td>80-85%</td>\n",
       "      <td>81.829496</td>\n",
       "      <td>70.272315</td>\n",
       "      <td>6133.0</td>\n",
       "      <td>Alameda</td>\n",
       "      <td>94608.0</td>\n",
       "      <td>Oakland</td>\n",
       "      <td>...</td>\n",
       "      <td>NaN</td>\n",
       "      <td>NaN</td>\n",
       "      <td>NaN</td>\n",
       "      <td>NaN</td>\n",
       "      <td>NaN</td>\n",
       "      <td>NaN</td>\n",
       "      <td>NaN</td>\n",
       "      <td>NaN</td>\n",
       "      <td>NaN</td>\n",
       "      <td>POINT EMPTY</td>\n",
       "    </tr>\n",
       "    <tr>\n",
       "      <th>2</th>\n",
       "      <td>6.001401e+09</td>\n",
       "      <td>43.677589</td>\n",
       "      <td>80.345436</td>\n",
       "      <td>80-85%</td>\n",
       "      <td>73.976353</td>\n",
       "      <td>76.059002</td>\n",
       "      <td>3921.0</td>\n",
       "      <td>Alameda</td>\n",
       "      <td>94609.0</td>\n",
       "      <td>Oakland</td>\n",
       "      <td>...</td>\n",
       "      <td>NaN</td>\n",
       "      <td>NaN</td>\n",
       "      <td>NaN</td>\n",
       "      <td>NaN</td>\n",
       "      <td>NaN</td>\n",
       "      <td>NaN</td>\n",
       "      <td>NaN</td>\n",
       "      <td>NaN</td>\n",
       "      <td>NaN</td>\n",
       "      <td>POINT EMPTY</td>\n",
       "    </tr>\n",
       "  </tbody>\n",
       "</table>\n",
       "<p>3 rows × 69 columns</p>\n",
       "</div>"
      ],
      "text/plain": [
       "   census_tract  calenviroscreen_4.0_score  calenviroscreen_4.0_percentile  \\\n",
       "0  6.001401e+09                  40.706036                       76.147252   \n",
       "1  6.001401e+09                  43.736745                       80.408472   \n",
       "2  6.001401e+09                  43.677589                       80.345436   \n",
       "\n",
       "  calenviroscreen_4.0__percentile_range  pollution_burden_percentile  \\\n",
       "0                                75-80%                    66.409459   \n",
       "1                                80-85%                    81.829496   \n",
       "2                                80-85%                    73.976353   \n",
       "\n",
       "   population_characteristics_percentile  total_population california_county  \\\n",
       "0                              74.848714            2471.0          Alameda    \n",
       "1                              70.272315            6133.0          Alameda    \n",
       "2                              76.059002            3921.0          Alameda    \n",
       "\n",
       "   approximate_zip_code approximate_location  ... poverty poverty_pctl  \\\n",
       "0               94608.0              Oakland  ...     NaN          NaN   \n",
       "1               94608.0              Oakland  ...     NaN          NaN   \n",
       "2               94609.0              Oakland  ...     NaN          NaN   \n",
       "\n",
       "  unemployment unemployment_pctl  housing_burden  housing_burden_pctl  \\\n",
       "0          NaN               NaN             NaN                  NaN   \n",
       "1          NaN               NaN             NaN                  NaN   \n",
       "2          NaN               NaN             NaN                  NaN   \n",
       "\n",
       "   pop._char.  pop._char._score  pop._char._pctl     geometry  \n",
       "0         NaN               NaN              NaN  POINT EMPTY  \n",
       "1         NaN               NaN              NaN  POINT EMPTY  \n",
       "2         NaN               NaN              NaN  POINT EMPTY  \n",
       "\n",
       "[3 rows x 69 columns]"
      ]
     },
     "execution_count": 3,
     "metadata": {},
     "output_type": "execute_result"
    }
   ],
   "source": [
    "# import SB535 Disadvantaged Communities data\n",
    "sb535_filename = '../data/SB535_disadv_communities/SB535DACresultsdatadictionary_F_2022.xlsx'\n",
    "\n",
    "sb535 = pd.read_excel(sb535_filename, sheet_name=None)\n",
    "\n",
    "# collect sb535 sheet names\n",
    "sb535_sheetnames = list(sb535.keys())\n",
    "\n",
    "# read in sheets as df\n",
    "sb535_1 = sb535[sb535_sheetnames[1]]\n",
    "\n",
    "sb535_2 = sb535[sb535_sheetnames[2]]\n",
    "\n",
    "sb535_3 = sb535[sb535_sheetnames[3]]\n",
    "\n",
    "# combine into df\n",
    "sb535_df = to_snake_case(pd.concat([sb535_1, sb535_2, sb535_3], ignore_index=True))\n",
    "\n",
    "# create geo object for mapping\n",
    "sb535_geo = gpd.GeoDataFrame(sb535_df,\n",
    "                             geometry = gpd.points_from_xy(sb535_df.longitude, sb535_df.latitude),\n",
    "                             crs = calenviro.crs)\n",
    "\n",
    "sb535_geo.head(3)"
   ]
  },
  {
   "cell_type": "code",
   "execution_count": 4,
   "metadata": {},
   "outputs": [
    {
     "data": {
      "text/plain": [
       "2310"
      ]
     },
     "execution_count": 4,
     "metadata": {},
     "output_type": "execute_result"
    }
   ],
   "source": [
    "# let's also make our lives easier later and convert this column name to tract and remove NaN\n",
    "sb535_geo.dropna(subset=['census_tract'], inplace=True)\n",
    "sb535_geo.loc[:, 'tract'] = sb535_geo['census_tract']\n",
    "\n",
    "# how many unique census tracts are accounted for\n",
    "len(sb535_geo.tract.unique())"
   ]
  },
  {
   "cell_type": "code",
   "execution_count": 5,
   "metadata": {},
   "outputs": [
    {
     "data": {
      "text/plain": [
       "<Axes: >"
      ]
     },
     "execution_count": 5,
     "metadata": {},
     "output_type": "execute_result"
    },
    {
     "data": {
      "image/png": "[encoded data removed]",
      "text/plain": [
       "<Figure size 640x480 with 1 Axes>"
      ]
     },
     "metadata": {},
     "output_type": "display_data"
    }
   ],
   "source": [
    "# non-overlapping tracts\n",
    "sb535_no_overlap = gpd.overlay(sb535_geo, calenviro, how='difference')\n",
    "\n",
    "sb535_no_overlap.plot()"
   ]
  },
  {
   "cell_type": "code",
   "execution_count": 6,
   "metadata": {},
   "outputs": [
    {
     "data": {
      "application/vnd.jupyter.widget-view+json": {
       "model_id": "3dd97427581647e4bc88f8265517b1e4",
       "version_major": 2,
       "version_minor": 0
      },
      "text/plain": [
       "Map(center=[36.7783, -119.4179], controls=(ZoomControl(options=['position', 'zoom_in_text', 'zoom_in_title', '…"
      ]
     },
     "execution_count": 6,
     "metadata": {},
     "output_type": "execute_result"
    }
   ],
   "source": [
    "# Load GeoDataFrame with non-overlapping geometries\n",
    "\n",
    "# Create a map centered around California\n",
    "m = Map(center=[36.7783, -119.4179], zoom=5.499)  \n",
    "\n",
    "# Add GeoDataFrame as GeoJson layer to the map\n",
    "geo_json = GeoJSON(data=sb535_no_overlap.__geo_interface__)\n",
    "m.add_layer(geo_json)\n",
    "\n",
    "# Add Layer control\n",
    "m.add_control(LayersControl())\n",
    "\n",
    "# Display the map\n",
    "m\n"
   ]
  },
  {
   "cell_type": "code",
   "execution_count": null,
   "metadata": {},
   "outputs": [],
   "source": [
    "# annotate the data source\n",
    "#ax.annotate(\"Data: U.S. Energy Information Administration (EIA), accessed June 30, 2024 \\nhttps://atlas.eia.gov/datasets/eia::power-plants/about\", \n",
    " #           xy=(0.25, .06), # position\n",
    "  #          xycoords='figure fraction', \n",
    "   #         fontsize=10, \n",
    "    #        color='#555555')"
   ]
  },
  {
   "cell_type": "code",
   "execution_count": 8,
   "metadata": {},
   "outputs": [],
   "source": [
    "# Create a Map instance\n",
    "m = Map(center=(37.5, -119.8), zoom=6)\n",
    "\n",
    "# Add the basemap to the Map instance\n",
    "m.add_layer(basemap_to_tiles(basemaps.OpenStreetMap.Mapnik))\n",
    "\n",
    "# Plot your data on the map\n",
    "sb535_geo_data = GeoData(geo_dataframe=sb535_no_overlap,\n",
    "                         style={'radius': 4, 'fillColor': 'tab20', 'color': 'black', 'fillOpacity': 0.6, 'weight': 0.9},\n",
    "                         name='SB535 Non-Overlapping Tracts')\n",
    "\n",
    "# include non-overlapping SB535 data\n",
    "m.add_layer(sb535_geo_data)\n",
    "\n",
    "    # Add markers for each point (tract) with Popup showing additional information\n",
    "for idx, row in sb535_no_overlap.iterrows():\n",
    "    marker = Marker(location=(row.geometry.centroid.y, row.geometry.centroid.x))\n",
    "    popup_content = HTML(value=f\"<b>Tract:</b> {row['tract']}<br><b>County:</b> {row['california_county']}\")\n",
    "    marker.popup = Popup(\n",
    "        location=(row.geometry.centroid.y, row.geometry.centroid.x),\n",
    "        child=popup_content,\n",
    "        close_button=False,\n",
    "        auto_close=False,\n",
    "        close_on_escape_key=False\n",
    "    )\n",
    "    m.add_layer(marker)\n",
    "\n",
    "\n",
    "# Add Layer control\n",
    "m.add_control(LayersControl())\n",
    "\n",
    "# Save the map as an HTML file\n",
    "m.save('my_map.html')\n",
    "# Display the map\n",
    "#m\n"
   ]
  },
  {
   "cell_type": "code",
   "execution_count": 9,
   "metadata": {},
   "outputs": [
    {
     "data": {
      "application/vnd.jupyter.widget-view+json": {
       "model_id": "0912833d7dff4ba5817a8cd687c9c3d7",
       "version_major": 2,
       "version_minor": 0
      },
      "text/plain": [
       "Map(center=[37.5, -119.8], controls=(ZoomControl(options=['position', 'zoom_in_text', 'zoom_in_title', 'zoom_o…"
      ]
     },
     "execution_count": 9,
     "metadata": {},
     "output_type": "execute_result"
    }
   ],
   "source": [
    "# Create a Map instance\n",
    "m = Map(center=(37.5, -119.8), zoom=6)\n",
    "\n",
    "# Add the basemap to the Map instance\n",
    "m.add_layer(basemap_to_tiles(basemaps.OpenStreetMap.Mapnik))\n",
    "\n",
    "\n",
    "# Plot your data on the map (replace sb535_no_overlap with your GeoDataFrame)\n",
    "sb535_geo_data = GeoData(\n",
    "    geo_dataframe=sb535_no_overlap,\n",
    "    style={\n",
    "        'fillColor': 'county_tract',  # Color code based on 'tract' attribute\n",
    "        'fillOpacity': 0.6,\n",
    "        'color': 'county_tract',\n",
    "        'weight': 0.9\n",
    "    },\n",
    "    name='SB535 Non-Overlapping Tracts'\n",
    ")\n",
    "\n",
    "m.add_layer(sb535_geo_data)\n",
    "\n",
    "\n",
    "# Add Layer control\n",
    "m.add_control(LayersControl())\n",
    "\n",
    "# Display the map\n",
    "m"
   ]
  },
  {
   "cell_type": "code",
   "execution_count": 15,
   "metadata": {},
   "outputs": [
    {
     "data": {
      "text/plain": [
       "2310"
      ]
     },
     "execution_count": 15,
     "metadata": {},
     "output_type": "execute_result"
    }
   ],
   "source": [
    "# how many unique census tracts are accounted for\n",
    "len(sb535_no_overlap.tract.unique())"
   ]
  },
  {
   "cell_type": "code",
   "execution_count": 17,
   "metadata": {},
   "outputs": [],
   "source": [
    "# save non-overlapping regions to a CSV\n",
    "sb535_no_overlap.to_csv('../no_overlap_tracts/sb535_no_overlap_tracts.csv', index=False)"
   ]
  },
  {
   "cell_type": "markdown",
   "metadata": {},
   "source": [
    "**SD Climate Equity Index (SD_CEI) data**\n",
    "\n",
    "Key attributes we'll want to look at easily are `tract`, `cei_score` and `cei_class`"
   ]
  },
  {
   "cell_type": "code",
   "execution_count": 7,
   "metadata": {},
   "outputs": [
    {
     "data": {
      "text/html": [
       "<div>\n",
       "<style scoped>\n",
       "    .dataframe tbody tr th:only-of-type {\n",
       "        vertical-align: middle;\n",
       "    }\n",
       "\n",
       "    .dataframe tbody tr th {\n",
       "        vertical-align: top;\n",
       "    }\n",
       "\n",
       "    .dataframe thead th {\n",
       "        text-align: right;\n",
       "    }\n",
       "</style>\n",
       "<table border=\"1\" class=\"dataframe\">\n",
       "  <thead>\n",
       "    <tr style=\"text-align: right;\">\n",
       "      <th></th>\n",
       "      <th>tract</th>\n",
       "      <th>cei_score_</th>\n",
       "      <th>cei_class_</th>\n",
       "      <th>cei_score1</th>\n",
       "      <th>cei_class1</th>\n",
       "      <th>flood_risk</th>\n",
       "      <th>fire_risk</th>\n",
       "      <th>tree_cover</th>\n",
       "      <th>urban_heat</th>\n",
       "      <th>proximity_</th>\n",
       "      <th>...</th>\n",
       "      <th>bikeabilit</th>\n",
       "      <th>access_to_</th>\n",
       "      <th>traffic_de</th>\n",
       "      <th>electric_v</th>\n",
       "      <th>asthma_rat</th>\n",
       "      <th>cancer_fat</th>\n",
       "      <th>healthy_fo</th>\n",
       "      <th>low_infant</th>\n",
       "      <th>cardiovasc</th>\n",
       "      <th>geometry</th>\n",
       "    </tr>\n",
       "  </thead>\n",
       "  <tbody>\n",
       "    <tr>\n",
       "      <th>0</th>\n",
       "      <td>6.073000e+09</td>\n",
       "      <td>74</td>\n",
       "      <td>High</td>\n",
       "      <td>77</td>\n",
       "      <td>High</td>\n",
       "      <td>0.0</td>\n",
       "      <td>77.64</td>\n",
       "      <td>24.46</td>\n",
       "      <td>3566.57</td>\n",
       "      <td>5.73</td>\n",
       "      <td>...</td>\n",
       "      <td>5.80</td>\n",
       "      <td>0.30</td>\n",
       "      <td>942.39</td>\n",
       "      <td>0.0</td>\n",
       "      <td>33.52</td>\n",
       "      <td>23.26</td>\n",
       "      <td>47.30</td>\n",
       "      <td>1.79</td>\n",
       "      <td>7.23</td>\n",
       "      <td>POLYGON ((7586946.163 291645.762, 7586947.459 ...</td>\n",
       "    </tr>\n",
       "    <tr>\n",
       "      <th>1</th>\n",
       "      <td>6.073000e+09</td>\n",
       "      <td>73</td>\n",
       "      <td>High</td>\n",
       "      <td>79</td>\n",
       "      <td>High</td>\n",
       "      <td>0.0</td>\n",
       "      <td>59.54</td>\n",
       "      <td>24.81</td>\n",
       "      <td>4141.78</td>\n",
       "      <td>5.18</td>\n",
       "      <td>...</td>\n",
       "      <td>10.70</td>\n",
       "      <td>0.25</td>\n",
       "      <td>1011.62</td>\n",
       "      <td>3.0</td>\n",
       "      <td>33.50</td>\n",
       "      <td>23.21</td>\n",
       "      <td>12.97</td>\n",
       "      <td>1.81</td>\n",
       "      <td>8.58</td>\n",
       "      <td>POLYGON ((7590659.401 291140.646, 7590674.526 ...</td>\n",
       "    </tr>\n",
       "    <tr>\n",
       "      <th>2</th>\n",
       "      <td>6.073000e+09</td>\n",
       "      <td>78</td>\n",
       "      <td>High</td>\n",
       "      <td>83</td>\n",
       "      <td>Very High</td>\n",
       "      <td>0.0</td>\n",
       "      <td>73.55</td>\n",
       "      <td>19.44</td>\n",
       "      <td>4152.74</td>\n",
       "      <td>4.64</td>\n",
       "      <td>...</td>\n",
       "      <td>14.06</td>\n",
       "      <td>0.29</td>\n",
       "      <td>1576.93</td>\n",
       "      <td>18.0</td>\n",
       "      <td>33.75</td>\n",
       "      <td>23.09</td>\n",
       "      <td>12.40</td>\n",
       "      <td>1.79</td>\n",
       "      <td>6.42</td>\n",
       "      <td>POLYGON ((7593491.575 291712.769, 7593399.774 ...</td>\n",
       "    </tr>\n",
       "  </tbody>\n",
       "</table>\n",
       "<p>3 rows × 47 columns</p>\n",
       "</div>"
      ],
      "text/plain": [
       "          tract  cei_score_ cei_class_  cei_score1 cei_class1  flood_risk  \\\n",
       "0  6.073000e+09          74       High          77       High         0.0   \n",
       "1  6.073000e+09          73       High          79       High         0.0   \n",
       "2  6.073000e+09          78       High          83  Very High         0.0   \n",
       "\n",
       "   fire_risk  tree_cover  urban_heat  proximity_  ...  bikeabilit  access_to_  \\\n",
       "0      77.64       24.46     3566.57        5.73  ...        5.80        0.30   \n",
       "1      59.54       24.81     4141.78        5.18  ...       10.70        0.25   \n",
       "2      73.55       19.44     4152.74        4.64  ...       14.06        0.29   \n",
       "\n",
       "   traffic_de  electric_v  asthma_rat  cancer_fat  healthy_fo  low_infant  \\\n",
       "0      942.39         0.0       33.52       23.26       47.30        1.79   \n",
       "1     1011.62         3.0       33.50       23.21       12.97        1.81   \n",
       "2     1576.93        18.0       33.75       23.09       12.40        1.79   \n",
       "\n",
       "   cardiovasc                                           geometry  \n",
       "0        7.23  POLYGON ((7586946.163 291645.762, 7586947.459 ...  \n",
       "1        8.58  POLYGON ((7590659.401 291140.646, 7590674.526 ...  \n",
       "2        6.42  POLYGON ((7593491.575 291712.769, 7593399.774 ...  \n",
       "\n",
       "[3 rows x 47 columns]"
      ]
     },
     "execution_count": 7,
     "metadata": {},
     "output_type": "execute_result"
    }
   ],
   "source": [
    "# import sd climate equity index data\n",
    "sd_cei = gpd.read_file('../data/sd_climate_equity_index/City_of_San_Diego_CEI_2021_Revision.shp')\n",
    "\n",
    "sd_cei = to_snake_case(sd_cei)\n",
    "\n",
    "# match crs\n",
    "sd_cei = sd_cei.to_crs(calenviro.crs)\n",
    "\n",
    "sd_cei.head(3)"
   ]
  },
  {
   "cell_type": "code",
   "execution_count": 8,
   "metadata": {},
   "outputs": [
    {
     "data": {
      "text/plain": [
       "297"
      ]
     },
     "execution_count": 8,
     "metadata": {},
     "output_type": "execute_result"
    }
   ],
   "source": [
    "# remove NaN\n",
    "sd_cei.dropna(subset=['tract'], inplace=True)\n",
    "\n",
    "# how many unique census tracts are accounted for\n",
    "len(sd_cei.tract.unique())"
   ]
  },
  {
   "cell_type": "code",
   "execution_count": 15,
   "metadata": {},
   "outputs": [
    {
     "name": "stderr",
     "output_type": "stream",
     "text": [
      "/var/folders/n4/2w_c819n7nv4fr_mvn5wpsnc0000gn/T/ipykernel_75933/99301996.py:2: UserWarning: `keep_geom_type=True` in overlay resulted in 695 dropped geometries of different geometry types than df1 has. Set `keep_geom_type=False` to retain all geometries\n",
      "  sd_cei_no_overlap = gpd.overlay(sd_cei, calenviro, how='difference').to_crs(calenviro.crs)\n"
     ]
    },
    {
     "data": {
      "text/plain": [
       "<Axes: >"
      ]
     },
     "execution_count": 15,
     "metadata": {},
     "output_type": "execute_result"
    },
    {
     "data": {
      "image/png": "[encoded data removed]",
      "text/plain": [
       "<Figure size 640x480 with 1 Axes>"
      ]
     },
     "metadata": {},
     "output_type": "display_data"
    }
   ],
   "source": [
    "# non-overlapping tracts\n",
    "sd_cei_no_overlap = gpd.overlay(sd_cei, calenviro, how='difference').to_crs(calenviro.crs)\n",
    "\n",
    "sd_cei_no_overlap.plot()"
   ]
  },
  {
   "cell_type": "code",
   "execution_count": 16,
   "metadata": {},
   "outputs": [
    {
     "data": {
      "application/vnd.jupyter.widget-view+json": {
       "model_id": "a21b2735a8974402a2fcc36be9965090",
       "version_major": 2,
       "version_minor": 0
      },
      "text/plain": [
       "Map(center=[36.7783, -119.4179], controls=(ZoomControl(options=['position', 'zoom_in_text', 'zoom_in_title', '…"
      ]
     },
     "execution_count": 16,
     "metadata": {},
     "output_type": "execute_result"
    }
   ],
   "source": [
    "# Load GeoDataFrame with non-overlapping geometries\n",
    "\n",
    "# Create a map centered around California\n",
    "m = Map(center=[36.7783, -119.4179], zoom=5.499)  \n",
    "\n",
    "# Add GeoDataFrame as GeoJson layer to the map\n",
    "geo_json = GeoJSON(data=sd_cei_no_overlap.__geo_interface__)\n",
    "m.add_layer(geo_json)\n",
    "\n",
    "# Add Layer control\n",
    "m.add_control(LayersControl())\n",
    "\n",
    "# Display the map\n",
    "m"
   ]
  },
  {
   "cell_type": "code",
   "execution_count": null,
   "metadata": {},
   "outputs": [],
   "source": [
    "# save non-overlapping regions to a CSV\n",
    "sd_cei_no_overlap.to_csv('../no_overlap_tracts/sd_cei_no_overlap_tracts.csv', index=False)"
   ]
  },
  {
   "cell_type": "markdown",
   "metadata": {},
   "source": [
    "**White House Map data**\n",
    "\n",
    "Key attributes we'll want to look at is `geoid10`, it may require wrangling to match other tract formats\n",
    "\n"
   ]
  },
  {
   "cell_type": "code",
   "execution_count": 18,
   "metadata": {},
   "outputs": [
    {
     "data": {
      "text/html": [
       "<div>\n",
       "<style scoped>\n",
       "    .dataframe tbody tr th:only-of-type {\n",
       "        vertical-align: middle;\n",
       "    }\n",
       "\n",
       "    .dataframe tbody tr th {\n",
       "        vertical-align: top;\n",
       "    }\n",
       "\n",
       "    .dataframe thead th {\n",
       "        text-align: right;\n",
       "    }\n",
       "</style>\n",
       "<table border=\"1\" class=\"dataframe\">\n",
       "  <thead>\n",
       "    <tr style=\"text-align: right;\">\n",
       "      <th></th>\n",
       "      <th>geoid10</th>\n",
       "      <th>sf</th>\n",
       "      <th>cf</th>\n",
       "      <th>df_pfs</th>\n",
       "      <th>af_pfs</th>\n",
       "      <th>hdf_pfs</th>\n",
       "      <th>dsf_pfs</th>\n",
       "      <th>ebf_pfs</th>\n",
       "      <th>ealr_pfs</th>\n",
       "      <th>eblr_pfs</th>\n",
       "      <th>...</th>\n",
       "      <th>age_10</th>\n",
       "      <th>age_middle</th>\n",
       "      <th>age_old</th>\n",
       "      <th>ta_cou_116</th>\n",
       "      <th>ta_count_c</th>\n",
       "      <th>ta_perc</th>\n",
       "      <th>ta_perc_fe</th>\n",
       "      <th>ui_exp</th>\n",
       "      <th>thrhld</th>\n",
       "      <th>geometry</th>\n",
       "    </tr>\n",
       "  </thead>\n",
       "  <tbody>\n",
       "    <tr>\n",
       "      <th>3552</th>\n",
       "      <td>06085507904</td>\n",
       "      <td>California</td>\n",
       "      <td>Santa Clara County</td>\n",
       "      <td>0.20</td>\n",
       "      <td>0.0</td>\n",
       "      <td>0.08</td>\n",
       "      <td>0.36</td>\n",
       "      <td>0.02</td>\n",
       "      <td>NaN</td>\n",
       "      <td>0.01</td>\n",
       "      <td>...</td>\n",
       "      <td>0.09</td>\n",
       "      <td>0.73</td>\n",
       "      <td>0.16</td>\n",
       "      <td>NaN</td>\n",
       "      <td>None</td>\n",
       "      <td>NaN</td>\n",
       "      <td>NaN</td>\n",
       "      <td>Nation</td>\n",
       "      <td>21</td>\n",
       "      <td>POLYGON ((6126159.951 1938710.503, 6126191.002...</td>\n",
       "    </tr>\n",
       "    <tr>\n",
       "      <th>3553</th>\n",
       "      <td>06085508504</td>\n",
       "      <td>California</td>\n",
       "      <td>Santa Clara County</td>\n",
       "      <td>0.04</td>\n",
       "      <td>0.0</td>\n",
       "      <td>0.02</td>\n",
       "      <td>0.54</td>\n",
       "      <td>0.00</td>\n",
       "      <td>NaN</td>\n",
       "      <td>0.02</td>\n",
       "      <td>...</td>\n",
       "      <td>0.16</td>\n",
       "      <td>0.75</td>\n",
       "      <td>0.07</td>\n",
       "      <td>NaN</td>\n",
       "      <td>None</td>\n",
       "      <td>NaN</td>\n",
       "      <td>NaN</td>\n",
       "      <td>Nation</td>\n",
       "      <td>21</td>\n",
       "      <td>POLYGON ((6121625.690 1956031.374, 6121625.414...</td>\n",
       "    </tr>\n",
       "    <tr>\n",
       "      <th>3554</th>\n",
       "      <td>06085508505</td>\n",
       "      <td>California</td>\n",
       "      <td>Santa Clara County</td>\n",
       "      <td>0.12</td>\n",
       "      <td>0.0</td>\n",
       "      <td>0.07</td>\n",
       "      <td>0.67</td>\n",
       "      <td>0.00</td>\n",
       "      <td>NaN</td>\n",
       "      <td>0.01</td>\n",
       "      <td>...</td>\n",
       "      <td>0.13</td>\n",
       "      <td>0.68</td>\n",
       "      <td>0.18</td>\n",
       "      <td>NaN</td>\n",
       "      <td>None</td>\n",
       "      <td>NaN</td>\n",
       "      <td>NaN</td>\n",
       "      <td>Nation</td>\n",
       "      <td>21</td>\n",
       "      <td>POLYGON ((6121624.707 1955970.577, 6121625.414...</td>\n",
       "    </tr>\n",
       "  </tbody>\n",
       "</table>\n",
       "<p>3 rows × 124 columns</p>\n",
       "</div>"
      ],
      "text/plain": [
       "          geoid10          sf                  cf  df_pfs  af_pfs  hdf_pfs  \\\n",
       "3552  06085507904  California  Santa Clara County    0.20     0.0     0.08   \n",
       "3553  06085508504  California  Santa Clara County    0.04     0.0     0.02   \n",
       "3554  06085508505  California  Santa Clara County    0.12     0.0     0.07   \n",
       "\n",
       "      dsf_pfs  ebf_pfs  ealr_pfs  eblr_pfs  ...  age_10  age_middle  age_old  \\\n",
       "3552     0.36     0.02       NaN      0.01  ...    0.09        0.73     0.16   \n",
       "3553     0.54     0.00       NaN      0.02  ...    0.16        0.75     0.07   \n",
       "3554     0.67     0.00       NaN      0.01  ...    0.13        0.68     0.18   \n",
       "\n",
       "      ta_cou_116  ta_count_c  ta_perc  ta_perc_fe  ui_exp  thrhld  \\\n",
       "3552         NaN        None      NaN         NaN  Nation      21   \n",
       "3553         NaN        None      NaN         NaN  Nation      21   \n",
       "3554         NaN        None      NaN         NaN  Nation      21   \n",
       "\n",
       "                                               geometry  \n",
       "3552  POLYGON ((6126159.951 1938710.503, 6126191.002...  \n",
       "3553  POLYGON ((6121625.690 1956031.374, 6121625.414...  \n",
       "3554  POLYGON ((6121624.707 1955970.577, 6121625.414...  \n",
       "\n",
       "[3 rows x 124 columns]"
      ]
     },
     "execution_count": 18,
     "metadata": {},
     "output_type": "execute_result"
    }
   ],
   "source": [
    "# import white house map data\n",
    "wh_map = gpd.read_file('../data/white_house_map/usa/usa.shp',\n",
    "                       crs = calenviro.crs)\n",
    "\n",
    "wh_map = to_snake_case(wh_map)\n",
    "\n",
    "# subset for CA\n",
    "wh_ca = wh_map[wh_map.sf == 'California'].to_crs(calenviro.crs)\n",
    "\n",
    "wh_ca.head(3)"
   ]
  },
  {
   "cell_type": "code",
   "execution_count": 12,
   "metadata": {},
   "outputs": [
    {
     "name": "stderr",
     "output_type": "stream",
     "text": [
      "/Users/sofiaingersoll/anaconda3/envs/eds-env/lib/python3.11/site-packages/geopandas/geodataframe.py:1538: SettingWithCopyWarning: \n",
      "A value is trying to be set on a copy of a slice from a DataFrame.\n",
      "Try using .loc[row_indexer,col_indexer] = value instead\n",
      "\n",
      "See the caveats in the documentation: https://pandas.pydata.org/pandas-docs/stable/user_guide/indexing.html#returning-a-view-versus-a-copy\n",
      "  super().__setitem__(key, value)\n"
     ]
    },
    {
     "data": {
      "text/plain": [
       "188"
      ]
     },
     "execution_count": 12,
     "metadata": {},
     "output_type": "execute_result"
    }
   ],
   "source": [
    "# real quick let's convert the geoid10 format to scientific notation to match the other data\n",
    "# using the g format specifier to automatically choose between fixed and scientific notation based on the number −\n",
    "# let's also make our lives easier later and convert this column name to tract \n",
    "# this will not run if NaN are present, so this confirms the data is clean\n",
    "wh_ca.loc[:, 'tract'] = wh_ca['geoid10'].apply(lambda x: f'{int(x):.6g}')\n",
    "\n",
    "# how many unique census tracts are accounted for\n",
    "len(wh_ca.tract.unique())"
   ]
  },
  {
   "cell_type": "code",
   "execution_count": null,
   "metadata": {},
   "outputs": [
    {
     "data": {
      "text/plain": [
       "3552     6.08551e+09\n",
       "3553     6.08551e+09\n",
       "3554     6.08551e+09\n",
       "3555     6.08551e+09\n",
       "3556     6.08551e+09\n",
       "            ...     \n",
       "11604     6.0371e+09\n",
       "11605     6.0371e+09\n",
       "11606     6.0371e+09\n",
       "11607     6.0371e+09\n",
       "73976    6.03793e+09\n",
       "Name: tract, Length: 8057, dtype: object"
      ]
     },
     "execution_count": 19,
     "metadata": {},
     "output_type": "execute_result"
    }
   ],
   "source": [
    "wh_ca.tract"
   ]
  },
  {
   "cell_type": "code",
   "execution_count": 19,
   "metadata": {},
   "outputs": [
    {
     "name": "stderr",
     "output_type": "stream",
     "text": [
      "/var/folders/n4/2w_c819n7nv4fr_mvn5wpsnc0000gn/T/ipykernel_75933/4050883151.py:2: UserWarning: `keep_geom_type=True` in overlay resulted in 29149 dropped geometries of different geometry types than df1 has. Set `keep_geom_type=False` to retain all geometries\n",
      "  wh_no_overlap = gpd.overlay(wh_ca, calenviro, how='difference')\n"
     ]
    },
    {
     "data": {
      "text/plain": [
       "<Axes: >"
      ]
     },
     "execution_count": 19,
     "metadata": {},
     "output_type": "execute_result"
    },
    {
     "data": {
      "image/png": "[encoded data removed]",
      "text/plain": [
       "<Figure size 640x480 with 1 Axes>"
      ]
     },
     "metadata": {},
     "output_type": "display_data"
    }
   ],
   "source": [
    "# non-overlapping tracts\n",
    "wh_no_overlap = gpd.overlay(wh_ca, calenviro, how='difference')\n",
    "\n",
    "wh_no_overlap.plot()"
   ]
  },
  {
   "cell_type": "code",
   "execution_count": 14,
   "metadata": {},
   "outputs": [
    {
     "data": {
      "application/vnd.jupyter.widget-view+json": {
       "model_id": "01918f6161fc403482be4d9651041a90",
       "version_major": 2,
       "version_minor": 0
      },
      "text/plain": [
       "Map(center=[36.7783, -119.4179], controls=(ZoomControl(options=['position', 'zoom_in_text', 'zoom_in_title', '…"
      ]
     },
     "execution_count": 14,
     "metadata": {},
     "output_type": "execute_result"
    }
   ],
   "source": [
    "# Load GeoDataFrame with non-overlapping geometries\n",
    "\n",
    "# Create a map centered around California\n",
    "m = Map(center=[36.7783, -119.4179], zoom=5.499)  \n",
    "\n",
    "# Add GeoDataFrame as GeoJson layer to the map\n",
    "geo_json = GeoJSON(data=wh_no_overlap.__geo_interface__)\n",
    "m.add_layer(geo_json)\n",
    "\n",
    "# Add Layer control\n",
    "m.add_control(LayersControl())\n",
    "\n",
    "# Display the map\n",
    "m"
   ]
  },
  {
   "cell_type": "code",
   "execution_count": null,
   "metadata": {},
   "outputs": [],
   "source": []
  },
  {
   "cell_type": "markdown",
   "metadata": {},
   "source": [
    "**DOE's Energy Justice Mapping Tool - Disadvantaged Communities Reporter (EJMT) data**\n",
    "\n",
    "Key attributes we'll want to look at is `geoid`, it may require wrangling to match other tract formats"
   ]
  },
  {
   "cell_type": "code",
   "execution_count": 36,
   "metadata": {},
   "outputs": [
    {
     "data": {
      "text/html": [
       "<div>\n",
       "<style scoped>\n",
       "    .dataframe tbody tr th:only-of-type {\n",
       "        vertical-align: middle;\n",
       "    }\n",
       "\n",
       "    .dataframe tbody tr th {\n",
       "        vertical-align: top;\n",
       "    }\n",
       "\n",
       "    .dataframe thead th {\n",
       "        text-align: right;\n",
       "    }\n",
       "</style>\n",
       "<table border=\"1\" class=\"dataframe\">\n",
       "  <thead>\n",
       "    <tr style=\"text-align: right;\">\n",
       "      <th></th>\n",
       "      <th>geoid</th>\n",
       "      <th>city</th>\n",
       "      <th>county</th>\n",
       "      <th>stateabb</th>\n",
       "      <th>countyfips</th>\n",
       "      <th>cbsa</th>\n",
       "      <th>cbsaname</th>\n",
       "      <th>statefips</th>\n",
       "      <th>population</th>\n",
       "      <th>dacsts</th>\n",
       "      <th>...</th>\n",
       "      <th>disablpct</th>\n",
       "      <th>incplmbpct</th>\n",
       "      <th>snglpntpct</th>\n",
       "      <th>mobilhmpct</th>\n",
       "      <th>nongridpct</th>\n",
       "      <th>lesshspct</th>\n",
       "      <th>lowincfpct</th>\n",
       "      <th>lowincapct</th>\n",
       "      <th>eal_npctl</th>\n",
       "      <th>geometry</th>\n",
       "    </tr>\n",
       "  </thead>\n",
       "  <tbody>\n",
       "    <tr>\n",
       "      <th>263</th>\n",
       "      <td>06003010000</td>\n",
       "      <td>Markleeville</td>\n",
       "      <td>Alpine County, CA</td>\n",
       "      <td>CA</td>\n",
       "      <td>6003</td>\n",
       "      <td>99999</td>\n",
       "      <td>None</td>\n",
       "      <td>6</td>\n",
       "      <td>1039.0</td>\n",
       "      <td>0</td>\n",
       "      <td>...</td>\n",
       "      <td>0.159769</td>\n",
       "      <td>0.000000</td>\n",
       "      <td>0.386503</td>\n",
       "      <td>0.017946</td>\n",
       "      <td>0.848571</td>\n",
       "      <td>0.088312</td>\n",
       "      <td>0.388835</td>\n",
       "      <td>0.232877</td>\n",
       "      <td>98.801193</td>\n",
       "      <td>POLYGON ((-13366398.426 4679189.192, -13365864...</td>\n",
       "    </tr>\n",
       "    <tr>\n",
       "      <th>264</th>\n",
       "      <td>06007001300</td>\n",
       "      <td>Chico</td>\n",
       "      <td>Butte County, CA</td>\n",
       "      <td>CA</td>\n",
       "      <td>6007</td>\n",
       "      <td>17020</td>\n",
       "      <td>Chico, CA</td>\n",
       "      <td>6</td>\n",
       "      <td>3689.0</td>\n",
       "      <td>0</td>\n",
       "      <td>...</td>\n",
       "      <td>0.173486</td>\n",
       "      <td>0.000000</td>\n",
       "      <td>0.485294</td>\n",
       "      <td>0.034864</td>\n",
       "      <td>0.032665</td>\n",
       "      <td>0.200159</td>\n",
       "      <td>0.514184</td>\n",
       "      <td>0.539340</td>\n",
       "      <td>91.930051</td>\n",
       "      <td>POLYGON ((-13562009.036 4826320.661, -13561775...</td>\n",
       "    </tr>\n",
       "    <tr>\n",
       "      <th>266</th>\n",
       "      <td>06015000203</td>\n",
       "      <td>Klamath</td>\n",
       "      <td>Del Norte County, CA</td>\n",
       "      <td>CA</td>\n",
       "      <td>6015</td>\n",
       "      <td>18860</td>\n",
       "      <td>Crescent City, CA</td>\n",
       "      <td>6</td>\n",
       "      <td>1251.0</td>\n",
       "      <td>0</td>\n",
       "      <td>...</td>\n",
       "      <td>0.301920</td>\n",
       "      <td>0.008811</td>\n",
       "      <td>0.634615</td>\n",
       "      <td>0.432810</td>\n",
       "      <td>0.607930</td>\n",
       "      <td>0.181319</td>\n",
       "      <td>0.539267</td>\n",
       "      <td>0.416000</td>\n",
       "      <td>75.575688</td>\n",
       "      <td>POLYGON ((-13820782.324 5120426.256, -13819546...</td>\n",
       "    </tr>\n",
       "  </tbody>\n",
       "</table>\n",
       "<p>3 rows × 51 columns</p>\n",
       "</div>"
      ],
      "text/plain": [
       "           geoid          city                county stateabb countyfips  \\\n",
       "263  06003010000  Markleeville     Alpine County, CA       CA       6003   \n",
       "264  06007001300         Chico      Butte County, CA       CA       6007   \n",
       "266  06015000203       Klamath  Del Norte County, CA       CA       6015   \n",
       "\n",
       "      cbsa           cbsaname statefips  population  dacsts  ...  disablpct  \\\n",
       "263  99999               None         6      1039.0       0  ...   0.159769   \n",
       "264  17020          Chico, CA         6      3689.0       0  ...   0.173486   \n",
       "266  18860  Crescent City, CA         6      1251.0       0  ...   0.301920   \n",
       "\n",
       "     incplmbpct  snglpntpct  mobilhmpct  nongridpct  lesshspct  lowincfpct  \\\n",
       "263    0.000000    0.386503    0.017946    0.848571   0.088312    0.388835   \n",
       "264    0.000000    0.485294    0.034864    0.032665   0.200159    0.514184   \n",
       "266    0.008811    0.634615    0.432810    0.607930   0.181319    0.539267   \n",
       "\n",
       "     lowincapct  eal_npctl                                           geometry  \n",
       "263    0.232877  98.801193  POLYGON ((-13366398.426 4679189.192, -13365864...  \n",
       "264    0.539340  91.930051  POLYGON ((-13562009.036 4826320.661, -13561775...  \n",
       "266    0.416000  75.575688  POLYGON ((-13820782.324 5120426.256, -13819546...  \n",
       "\n",
       "[3 rows x 51 columns]"
      ]
     },
     "execution_count": 36,
     "metadata": {},
     "output_type": "execute_result"
    }
   ],
   "source": [
    "# import doe energy justice mapping tool data\n",
    "doe_ejmt = gpd.read_file('../data/DOE_EJ_mapping_tool/DAC Shapefiles (v2022c).shp',\n",
    "                         crs = calenviro.crs)\n",
    "\n",
    "doe_ejmt = to_snake_case(doe_ejmt)\n",
    "\n",
    "doe_ejmt_ca = doe_ejmt[doe_ejmt.stateabb == 'CA']\n",
    "\n",
    "doe_ejmt_ca.head(3)"
   ]
  },
  {
   "cell_type": "code",
   "execution_count": 37,
   "metadata": {},
   "outputs": [
    {
     "name": "stderr",
     "output_type": "stream",
     "text": [
      "/Users/sofiaingersoll/anaconda3/envs/eds-env/lib/python3.11/site-packages/geopandas/geodataframe.py:1538: SettingWithCopyWarning: \n",
      "A value is trying to be set on a copy of a slice from a DataFrame.\n",
      "Try using .loc[row_indexer,col_indexer] = value instead\n",
      "\n",
      "See the caveats in the documentation: https://pandas.pydata.org/pandas-docs/stable/user_guide/indexing.html#returning-a-view-versus-a-copy\n",
      "  super().__setitem__(key, value)\n"
     ]
    },
    {
     "data": {
      "text/plain": [
       "188"
      ]
     },
     "execution_count": 37,
     "metadata": {},
     "output_type": "execute_result"
    }
   ],
   "source": [
    "# real quick let's convert the geoid10 format to scientific notation to match the other data\n",
    "# using the g format specifier to automatically choose between fixed and scientific notation based on the number −\n",
    "# let's also make our lives easier later and convert this column name to tract \n",
    "# this will not run if NaN are present, so this confirms the data is clean\n",
    "doe_ejmt_ca.loc[:, 'tract'] = doe_ejmt_ca['geoid'].apply(lambda x: f'{int(x):.6g}')\n",
    "\n",
    "# how many unique census tracts are accounted for\n",
    "len(doe_ejmt_ca.tract.unique())"
   ]
  },
  {
   "cell_type": "code",
   "execution_count": null,
   "metadata": {},
   "outputs": [
    {
     "data": {
      "text/plain": [
       "263      6.00301e+09\n",
       "264        6.007e+09\n",
       "266        6.015e+09\n",
       "267      6.02301e+09\n",
       "268      6.02394e+09\n",
       "            ...     \n",
       "71260    6.07101e+09\n",
       "71262    6.07101e+09\n",
       "71264    6.07101e+09\n",
       "72940    6.05999e+09\n",
       "73031    6.06199e+09\n",
       "Name: tract, Length: 8057, dtype: object"
      ]
     },
     "execution_count": 22,
     "metadata": {},
     "output_type": "execute_result"
    }
   ],
   "source": [
    "doe_ejmt_ca.tract"
   ]
  },
  {
   "cell_type": "code",
   "execution_count": null,
   "metadata": {},
   "outputs": [],
   "source": []
  },
  {
   "cell_type": "code",
   "execution_count": 39,
   "metadata": {},
   "outputs": [
    {
     "ename": "TypeError",
     "evalue": "'Series' object is not callable",
     "output_type": "error",
     "traceback": [
      "\u001b[0;31m---------------------------------------------------------------------------\u001b[0m",
      "\u001b[0;31mTypeError\u001b[0m                                 Traceback (most recent call last)",
      "\u001b[1;32m/Users/sofiaingersoll/2035/iee_grid_modeling_project/Script/simple_wkflw.ipynb Cell 40\u001b[0m line \u001b[0;36m5\n\u001b[1;32m      <a href='vscode-notebook-cell:/Users/sofiaingersoll/2035/iee_grid_modeling_project/Script/simple_wkflw.ipynb#Y103sZmlsZQ%3D%3D?line=1'>2</a>\u001b[0m doe_ejmt_ca \u001b[39m=\u001b[39m doe_ejmt_ca\u001b[39m.\u001b[39mto_crs(calenviro\u001b[39m.\u001b[39mcrs)\n\u001b[1;32m      <a href='vscode-notebook-cell:/Users/sofiaingersoll/2035/iee_grid_modeling_project/Script/simple_wkflw.ipynb#Y103sZmlsZQ%3D%3D?line=3'>4</a>\u001b[0m \u001b[39m# Apply the function to fix geometries in doe_ejmt_ca\u001b[39;00m\n\u001b[0;32m----> <a href='vscode-notebook-cell:/Users/sofiaingersoll/2035/iee_grid_modeling_project/Script/simple_wkflw.ipynb#Y103sZmlsZQ%3D%3D?line=4'>5</a>\u001b[0m doe_ejmt_valid \u001b[39m=\u001b[39m doe_ejmt_ca\u001b[39m.\u001b[39;49mis_valid()\n\u001b[1;32m      <a href='vscode-notebook-cell:/Users/sofiaingersoll/2035/iee_grid_modeling_project/Script/simple_wkflw.ipynb#Y103sZmlsZQ%3D%3D?line=6'>7</a>\u001b[0m doe_ejmt_no_overlap \u001b[39m=\u001b[39m gpd\u001b[39m.\u001b[39moverlay(doe_ejmt_valid, calenviro, how\u001b[39m=\u001b[39m\u001b[39m'\u001b[39m\u001b[39mdifference\u001b[39m\u001b[39m'\u001b[39m)\n\u001b[1;32m      <a href='vscode-notebook-cell:/Users/sofiaingersoll/2035/iee_grid_modeling_project/Script/simple_wkflw.ipynb#Y103sZmlsZQ%3D%3D?line=8'>9</a>\u001b[0m doe_ejmt_no_overlap\u001b[39m.\u001b[39mplot()\n",
      "\u001b[0;31mTypeError\u001b[0m: 'Series' object is not callable"
     ]
    }
   ],
   "source": [
    "# non-overlapping tracts\n",
    "doe_ejmt_ca = doe_ejmt_ca.to_crs(calenviro.crs)\n",
    "\n",
    "# Apply the function to fix geometries in doe_ejmt_ca\n",
    "doe_ejmt_valid = doe_ejmt_ca.is_valid()\n",
    "\n",
    "doe_ejmt_no_overlap = gpd.overlay(doe_ejmt_valid, calenviro, how='difference')\n",
    "\n",
    "doe_ejmt_no_overlap.plot()\n"
   ]
  },
  {
   "cell_type": "code",
   "execution_count": 23,
   "metadata": {},
   "outputs": [
    {
     "data": {
      "application/vnd.jupyter.widget-view+json": {
       "model_id": "e50926f57c9648fa975d86229a42e688",
       "version_major": 2,
       "version_minor": 0
      },
      "text/plain": [
       "Map(center=[36.7783, -119.4179], controls=(ZoomControl(options=['position', 'zoom_in_text', 'zoom_in_title', '…"
      ]
     },
     "execution_count": 23,
     "metadata": {},
     "output_type": "execute_result"
    }
   ],
   "source": [
    "# Load GeoDataFrame with non-overlapping geometries\n",
    "\n",
    "# Create a map centered around California\n",
    "m = Map(center=[36.7783, -119.4179], zoom=5.499)  \n",
    "\n",
    "# Add GeoDataFrame as GeoJson layer to the map\n",
    "geo_json = GeoJSON(data=wh_no_overlap.__geo_interface__)\n",
    "m.add_layer(geo_json)\n",
    "\n",
    "# Add Layer control\n",
    "m.add_control(LayersControl())\n",
    "\n",
    "# Display the map\n",
    "m"
   ]
  },
  {
   "cell_type": "markdown",
   "metadata": {},
   "source": [
    "**CDC CA Social Vulnearability Index (SVI)**"
   ]
  },
  {
   "cell_type": "code",
   "execution_count": null,
   "metadata": {},
   "outputs": [
    {
     "data": {
      "text/html": [
       "<div>\n",
       "<style scoped>\n",
       "    .dataframe tbody tr th:only-of-type {\n",
       "        vertical-align: middle;\n",
       "    }\n",
       "\n",
       "    .dataframe tbody tr th {\n",
       "        vertical-align: top;\n",
       "    }\n",
       "\n",
       "    .dataframe thead th {\n",
       "        text-align: right;\n",
       "    }\n",
       "</style>\n",
       "<table border=\"1\" class=\"dataframe\">\n",
       "  <thead>\n",
       "    <tr style=\"text-align: right;\">\n",
       "      <th></th>\n",
       "      <th>st</th>\n",
       "      <th>state</th>\n",
       "      <th>st_abbr</th>\n",
       "      <th>stcnty</th>\n",
       "      <th>county</th>\n",
       "      <th>fips</th>\n",
       "      <th>location</th>\n",
       "      <th>area_sqmi</th>\n",
       "      <th>e_totpop</th>\n",
       "      <th>m_totpop</th>\n",
       "      <th>...</th>\n",
       "      <th>mp_asian</th>\n",
       "      <th>ep_aian</th>\n",
       "      <th>mp_aian</th>\n",
       "      <th>ep_nhpi</th>\n",
       "      <th>mp_nhpi</th>\n",
       "      <th>ep_twomore</th>\n",
       "      <th>mp_twomore</th>\n",
       "      <th>ep_otherrace</th>\n",
       "      <th>mp_otherrace</th>\n",
       "      <th>tract</th>\n",
       "    </tr>\n",
       "  </thead>\n",
       "  <tbody>\n",
       "    <tr>\n",
       "      <th>0</th>\n",
       "      <td>6</td>\n",
       "      <td>California</td>\n",
       "      <td>CA</td>\n",
       "      <td>6001</td>\n",
       "      <td>Alameda County</td>\n",
       "      <td>6001400100</td>\n",
       "      <td>Census Tract 4001; Alameda County; California</td>\n",
       "      <td>2.681809</td>\n",
       "      <td>3269</td>\n",
       "      <td>452</td>\n",
       "      <td>...</td>\n",
       "      <td>3.7</td>\n",
       "      <td>0.0</td>\n",
       "      <td>1.2</td>\n",
       "      <td>0.0</td>\n",
       "      <td>1.2</td>\n",
       "      <td>5.3</td>\n",
       "      <td>2.7</td>\n",
       "      <td>0.8</td>\n",
       "      <td>0.9</td>\n",
       "      <td>6.0014e+09</td>\n",
       "    </tr>\n",
       "    <tr>\n",
       "      <th>1</th>\n",
       "      <td>6</td>\n",
       "      <td>California</td>\n",
       "      <td>CA</td>\n",
       "      <td>6001</td>\n",
       "      <td>Alameda County</td>\n",
       "      <td>6001400200</td>\n",
       "      <td>Census Tract 4002; Alameda County; California</td>\n",
       "      <td>0.226472</td>\n",
       "      <td>2147</td>\n",
       "      <td>201</td>\n",
       "      <td>...</td>\n",
       "      <td>4.5</td>\n",
       "      <td>0.4</td>\n",
       "      <td>0.7</td>\n",
       "      <td>0.0</td>\n",
       "      <td>1.8</td>\n",
       "      <td>8.5</td>\n",
       "      <td>3.4</td>\n",
       "      <td>0.4</td>\n",
       "      <td>0.5</td>\n",
       "      <td>6.0014e+09</td>\n",
       "    </tr>\n",
       "    <tr>\n",
       "      <th>2</th>\n",
       "      <td>6</td>\n",
       "      <td>California</td>\n",
       "      <td>CA</td>\n",
       "      <td>6001</td>\n",
       "      <td>Alameda County</td>\n",
       "      <td>6001400300</td>\n",
       "      <td>Census Tract 4003; Alameda County; California</td>\n",
       "      <td>0.428898</td>\n",
       "      <td>5619</td>\n",
       "      <td>571</td>\n",
       "      <td>...</td>\n",
       "      <td>3.3</td>\n",
       "      <td>0.5</td>\n",
       "      <td>0.5</td>\n",
       "      <td>0.0</td>\n",
       "      <td>0.7</td>\n",
       "      <td>9.1</td>\n",
       "      <td>4.8</td>\n",
       "      <td>1.1</td>\n",
       "      <td>1.0</td>\n",
       "      <td>6.0014e+09</td>\n",
       "    </tr>\n",
       "  </tbody>\n",
       "</table>\n",
       "<p>3 rows × 159 columns</p>\n",
       "</div>"
      ],
      "text/plain": [
       "   st       state st_abbr  stcnty          county        fips  \\\n",
       "0   6  California      CA    6001  Alameda County  6001400100   \n",
       "1   6  California      CA    6001  Alameda County  6001400200   \n",
       "2   6  California      CA    6001  Alameda County  6001400300   \n",
       "\n",
       "                                        location  area_sqmi  e_totpop  \\\n",
       "0  Census Tract 4001; Alameda County; California   2.681809      3269   \n",
       "1  Census Tract 4002; Alameda County; California   0.226472      2147   \n",
       "2  Census Tract 4003; Alameda County; California   0.428898      5619   \n",
       "\n",
       "   m_totpop  ...  mp_asian  ep_aian  mp_aian  ep_nhpi  mp_nhpi  ep_twomore  \\\n",
       "0       452  ...       3.7      0.0      1.2      0.0      1.2         5.3   \n",
       "1       201  ...       4.5      0.4      0.7      0.0      1.8         8.5   \n",
       "2       571  ...       3.3      0.5      0.5      0.0      0.7         9.1   \n",
       "\n",
       "   mp_twomore  ep_otherrace  mp_otherrace       tract  \n",
       "0         2.7           0.8           0.9  6.0014e+09  \n",
       "1         3.4           0.4           0.5  6.0014e+09  \n",
       "2         4.8           1.1           1.0  6.0014e+09  \n",
       "\n",
       "[3 rows x 159 columns]"
      ]
     },
     "execution_count": 38,
     "metadata": {},
     "output_type": "execute_result"
    }
   ],
   "source": [
    "cdc_svi = to_snake_case(pd.read_csv('../data/CDC_Index/California_SVI.csv'))\n",
    "\n",
    "cdc_svi\n",
    "\n",
    "# real quick let's convert the geoid10 format to scientific notation to match the other data\n",
    "# using the g format specifier to automatically choose between fixed and scientific notation based on the number −\n",
    "# let's also make our lives easier later and convert this column name to tract \n",
    "# this will not run if NaN are present, so this confirms the data is clean\n",
    "cdc_svi.loc[:, 'tract'] = cdc_svi['fips'].apply(lambda x: f'{int(x):.6g}')\n",
    "\n",
    "cdc_svi.head(3)"
   ]
  },
  {
   "cell_type": "code",
   "execution_count": null,
   "metadata": {},
   "outputs": [
    {
     "data": {
      "text/plain": [
       "173"
      ]
     },
     "execution_count": 39,
     "metadata": {},
     "output_type": "execute_result"
    }
   ],
   "source": [
    "# how many unique census tracts are accounted for\n",
    "len(cdc_svi.tract.unique())"
   ]
  },
  {
   "cell_type": "markdown",
   "metadata": {},
   "source": [
    "### Overlaying\n",
    "\n",
    "I want to reduce the size of the data as much as possible before performing inner-join and outer-joins on the the data. So, we're going to only select the most pertenent information from each dataset to join with using SQL\n",
    "\n",
    "Firstly, let's isolate unique census tracts in the data sets and combine only the unique `tract`\n",
    "\n",
    "##### Ideas\n",
    "\n",
    "Using the `tract` column, combine the df for plotting\n",
    "\n",
    "Instead of concatination, let's do an inner join? so keeping observations that are present in both and removing those outside\n",
    "\n",
    "To combine the Climate Vulnerability Metrics (CVM) I need an intermediate table of the county_fips and associated census_tracts, this is what we will use to relate our combined data at the CVM data.\n",
    "\n",
    "**Since the directions as for overlap**\n",
    "\n",
    "*Notes: CRS + resolution need to match across the board*\n"
   ]
  },
  {
   "cell_type": "code",
   "execution_count": null,
   "metadata": {},
   "outputs": [
    {
     "data": {
      "application/vnd.jupyter.widget-view+json": {
       "model_id": "a36ffd9ba78b4337b45b4728c69f6535",
       "version_major": 2,
       "version_minor": 0
      },
      "text/plain": [
       "Map(center=[37.5, -119.8], controls=(ZoomControl(options=['position', 'zoom_in_text', 'zoom_in_title', 'zoom_o…"
      ]
     },
     "execution_count": 13,
     "metadata": {},
     "output_type": "execute_result"
    }
   ],
   "source": [
    "# Create a Map instance\n",
    "m = Map(center=(37.5, -119.8), zoom=6)\n",
    "\n",
    "# Add the basemap to the Map instance\n",
    "m.add_layer(basemap_to_tiles(basemaps.OpenStreetMap.Mapnik))\n",
    "\n",
    "# Plot your data on the map (replace sd_cei_no_overlap with your GeoDataFrame)\n",
    "sd_cei_geo_data = GeoData(\n",
    "    geo_dataframe=sd_cei_no_overlap,\n",
    "    style={\n",
    "        'fillColor': 'county_tract',  # Color code based on 'tract' attribute\n",
    "        'fillOpacity': 0.6,\n",
    "        'color': 'county_tract',\n",
    "        'weight': 0.9\n",
    "    },\n",
    "    name='sd_cei Non-Overlapping Tracts'\n",
    ")\n",
    "\n",
    "m.add_layer(sd_cei_geo_data)\n",
    "\n",
    "# Add Layer control\n",
    "m.add_control(LayersControl())\n",
    "\n",
    "# Display the map\n",
    "m"
   ]
  },
  {
   "cell_type": "code",
   "execution_count": null,
   "metadata": {},
   "outputs": [],
   "source": [
    "# Create a Map instance\n",
    "m = Map(center=(37.5, -119.8), zoom=6)\n",
    "\n",
    "# Add the basemap to the Map instance\n",
    "m.add_layer(basemap_to_tiles())\n",
    "\n",
    "# Plot your data on the map (replace with your GeoDataFrames)\n",
    "sb535_geo_data = GeoData(\n",
    "    geo_dataframe=sb535_no_overlap,\n",
    "    style={\n",
    "        'fillColor': 'tab20',  # Color code based on 'tract' attribute\n",
    "        'fillOpacity': 0.6,\n",
    "        'color': 'black',\n",
    "        'weight': 0.9\n",
    "    },\n",
    "    name='SB535 Non-Overlapping Tracts'\n",
    ")\n",
    "\n",
    "m.add_layer(sb535_geo_data)\n",
    "\n",
    "# Plot non-overlapping tracts from sd_cei_no_overlap as another layer\n",
    "sd_cei_geo_data = GeoData(\n",
    "    geo_dataframe=sd_cei_no_overlap,\n",
    "    style={\n",
    "        'fillColor': 'red',  # Example color for non-overlapping tracts\n",
    "        'fillOpacity': 0.6,\n",
    "        'color': 'black',\n",
    "        'weight': 0.9\n",
    "    },\n",
    "    name='SD CEI Non-Overlapping Tracts'\n",
    ")\n",
    "\n",
    "m.add_layer(sd_cei_geo_data)\n",
    "\n",
    "# Display the map\n",
    "m"
   ]
  },
  {
   "cell_type": "code",
   "execution_count": null,
   "metadata": {
    "vscode": {
     "languageId": "sql"
    }
   },
   "outputs": [],
   "source": [
    "-- SQL to combine data\n",
    "\n"
   ]
  }
 ],
 "metadata": {
  "kernelspec": {
   "display_name": "eds-env",
   "language": "python",
   "name": "python3"
  },
  "language_info": {
   "codemirror_mode": {
    "name": "ipython",
    "version": 3
   },
   "file_extension": ".py",
   "mimetype": "text/x-python",
   "name": "python",
   "nbconvert_exporter": "python",
   "pygments_lexer": "ipython3",
   "version": "3.11.4"
  }
 },
 "nbformat": 4,
 "nbformat_minor": 2
}
